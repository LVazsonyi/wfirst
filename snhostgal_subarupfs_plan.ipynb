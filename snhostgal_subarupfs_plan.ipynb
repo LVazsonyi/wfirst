{
 "cells": [
  {
   "cell_type": "code",
   "execution_count": 33,
   "metadata": {
    "collapsed": false
   },
   "outputs": [
    {
     "name": "stdout",
     "output_type": "stream",
     "text": [
      "Automatic pdb calling has been turned ON\n"
     ]
    }
   ],
   "source": [
    "%matplotlib inline\n",
    "%pdb\n",
    "#import time\n",
    "#tstart = time.time()"
   ]
  },
  {
   "cell_type": "code",
   "execution_count": 34,
   "metadata": {
    "collapsed": false
   },
   "outputs": [],
   "source": [
    "import numpy as np\n",
    "from astropy.io import fits\n",
    "from astropy.table import Table\n",
    "from matplotlib import pyplot as plt\n",
    "import snhostspec as wfirst\n",
    "from glob import glob"
   ]
  },
  {
   "cell_type": "code",
   "execution_count": 63,
   "metadata": {
    "collapsed": false
   },
   "outputs": [
    {
     "name": "stdout",
     "output_type": "stream",
     "text": [
      "Initiliazed an empty WfirstSimData object\n",
      "Adding SNANA sim data from SNANA.SIM.OUTPUT/IMG_2T_4FILT_MD_SLT3_Z08_Ia-01_HEAD.FITS\n",
      "Loading observed galaxy data from the 3DHST catalogs\n",
      "Finding observed galaxies that ~match simulated SN host\n",
      "galaxy properties (redshift and magnitude)...\n",
      "Loading data for best-fit SEDs from 3DHST fits to observed photometry for all galaxies in all five CANDELS fields...\n",
      "Using Gabe Brammer's EAZY code to generate the best-fit SEDs of the observed galaxies that we have matched up to the SNANA simulation hostgal data.\n"
     ]
    },
    {
     "name": "stderr",
     "output_type": "stream",
     "text": [
      "snhostspec.py:387: RuntimeWarning: divide by zero encountered in double_scalars\n",
      "  import eazy.igm\n",
      "snhostspec.py:388: RuntimeWarning: invalid value encountered in multiply\n",
      "  igmz = eazy.igm.Inoue14().full_IGM(z, templz)\n"
     ]
    }
   ],
   "source": [
    "reload(wfirst)\n",
    "sim = wfirst.WfirstSimData()\n",
    "sim.add_all_snana_simdata()\n",
    "sim.load_matchdata()\n",
    "sim.pick_random_matches()\n",
    "sim.load_sed_data()\n",
    "sim.generate_all_seds()"
   ]
  },
  {
   "cell_type": "code",
   "execution_count": 70,
   "metadata": {
    "collapsed": false
   },
   "outputs": [
    {
     "name": "stdout",
     "output_type": "stream",
     "text": [
      "Wrote sim data catalog to wfirst_snhostspec_master.cat\n"
     ]
    }
   ],
   "source": [
    "sim.write_catalog(\"wfirst_snhostspec_master.cat\")"
   ]
  },
  {
   "cell_type": "code",
   "execution_count": 109,
   "metadata": {
    "collapsed": false
   },
   "outputs": [
    {
     "data": {
      "text/plain": [
       "'3DHST/sedsim.output/wfirst_simsed.GOODS-S.0364.dat'"
      ]
     },
     "execution_count": 109,
     "metadata": {},
     "output_type": "execute_result"
    }
   ],
   "source": [
    "sim2.simdata['sedoutfile'][0]"
   ]
  },
  {
   "cell_type": "code",
   "execution_count": 120,
   "metadata": {
    "collapsed": false
   },
   "outputs": [
    {
     "name": "stdout",
     "output_type": "stream",
     "text": [
      "Initiliazed an empty WfirstSimData object\n",
      "Running the PFS ETC for UDS.27830 at z 0.78 with mag 23.39for 1 hrs, sedfile 3DHST/sedsim.output/wfirst_simsed.UDS.27830.dat.\n",
      " output: etcout/subaruPFS_SNR_UDS.27830_z0.78_m23.39_1hrs.dat\n",
      "Finished in 210.9 seconds\n",
      "Running the PFS ETC for UDS.27830 at z 0.78 with mag 23.39for 5 hrs, sedfile 3DHST/sedsim.output/wfirst_simsed.UDS.27830.dat.\n",
      " output: etcout/subaruPFS_SNR_UDS.27830_z0.78_m23.39_5hrs.dat\n",
      "Finished in 221.6 seconds\n",
      "Running the PFS ETC for UDS.27830 at z 0.78 with mag 23.39for 10 hrs, sedfile 3DHST/sedsim.output/wfirst_simsed.UDS.27830.dat.\n",
      " output: etcout/subaruPFS_SNR_UDS.27830_z0.78_m23.39_10hrs.dat\n",
      "Finished in 231.7 seconds\n",
      "Running the PFS ETC for COSMOS.27241 at z 0.82 with mag 23.82for 1 hrs, sedfile 3DHST/sedsim.output/wfirst_simsed.COSMOS.27241.dat.\n",
      " output: etcout/subaruPFS_SNR_COSMOS.27241_z0.82_m23.82_1hrs.dat\n",
      "Finished in 232.4 seconds\n",
      "Running the PFS ETC for COSMOS.27241 at z 0.82 with mag 23.82for 5 hrs, sedfile 3DHST/sedsim.output/wfirst_simsed.COSMOS.27241.dat.\n",
      " output: etcout/subaruPFS_SNR_COSMOS.27241_z0.82_m23.82_5hrs.dat\n",
      "Finished in 229.0 seconds\n",
      "Running the PFS ETC for COSMOS.27241 at z 0.82 with mag 23.82for 10 hrs, sedfile 3DHST/sedsim.output/wfirst_simsed.COSMOS.27241.dat.\n",
      " output: etcout/subaruPFS_SNR_COSMOS.27241_z0.82_m23.82_10hrs.dat\n",
      "Finished in 232.9 seconds\n",
      "Running the PFS ETC for AEGIS.7847 at z 0.76 with mag 24.05for 1 hrs, sedfile 3DHST/sedsim.output/wfirst_simsed.AEGIS.7847.dat.\n",
      " output: etcout/subaruPFS_SNR_AEGIS.7847_z0.76_m24.05_1hrs.dat\n",
      "Finished in 226.2 seconds\n",
      "Running the PFS ETC for AEGIS.7847 at z 0.76 with mag 24.05for 5 hrs, sedfile 3DHST/sedsim.output/wfirst_simsed.AEGIS.7847.dat.\n",
      " output: etcout/subaruPFS_SNR_AEGIS.7847_z0.76_m24.05_5hrs.dat\n",
      "Finished in 232.5 seconds\n",
      "Running the PFS ETC for AEGIS.7847 at z 0.76 with mag 24.05for 10 hrs, sedfile 3DHST/sedsim.output/wfirst_simsed.AEGIS.7847.dat.\n",
      " output: etcout/subaruPFS_SNR_AEGIS.7847_z0.76_m24.05_10hrs.dat\n",
      "Finished in 232.8 seconds\n",
      "Running the PFS ETC for COSMOS.23271 at z 1.20 with mag 23.98for 1 hrs, sedfile 3DHST/sedsim.output/wfirst_simsed.COSMOS.23271.dat.\n",
      " output: etcout/subaruPFS_SNR_COSMOS.23271_z1.20_m23.98_1hrs.dat\n",
      "Finished in 232.9 seconds\n",
      "Running the PFS ETC for COSMOS.23271 at z 1.20 with mag 23.98for 5 hrs, sedfile 3DHST/sedsim.output/wfirst_simsed.COSMOS.23271.dat.\n",
      " output: etcout/subaruPFS_SNR_COSMOS.23271_z1.20_m23.98_5hrs.dat\n",
      "Finished in 215.4 seconds\n",
      "Running the PFS ETC for COSMOS.23271 at z 1.20 with mag 23.98for 10 hrs, sedfile 3DHST/sedsim.output/wfirst_simsed.COSMOS.23271.dat.\n",
      " output: etcout/subaruPFS_SNR_COSMOS.23271_z1.20_m23.98_10hrs.dat\n",
      "Finished in 190.8 seconds\n",
      "Running the PFS ETC for COSMOS.29706 at z 1.18 with mag 24.35for 1 hrs, sedfile 3DHST/sedsim.output/wfirst_simsed.COSMOS.29706.dat.\n",
      " output: etcout/subaruPFS_SNR_COSMOS.29706_z1.18_m24.35_1hrs.dat\n",
      "Finished in 191.6 seconds\n",
      "Running the PFS ETC for COSMOS.29706 at z 1.18 with mag 24.35for 5 hrs, sedfile 3DHST/sedsim.output/wfirst_simsed.COSMOS.29706.dat.\n",
      " output: etcout/subaruPFS_SNR_COSMOS.29706_z1.18_m24.35_5hrs.dat\n",
      "Finished in 190.9 seconds\n",
      "Running the PFS ETC for COSMOS.29706 at z 1.18 with mag 24.35for 10 hrs, sedfile 3DHST/sedsim.output/wfirst_simsed.COSMOS.29706.dat.\n",
      " output: etcout/subaruPFS_SNR_COSMOS.29706_z1.18_m24.35_10hrs.dat\n",
      "Finished in 191.7 seconds\n",
      "Running the PFS ETC for GOODS-N.5077 at z 1.20 with mag 24.67for 1 hrs, sedfile 3DHST/sedsim.output/wfirst_simsed.GOODS-N.5077.dat.\n",
      " output: etcout/subaruPFS_SNR_GOODS-N.5077_z1.20_m24.67_1hrs.dat\n",
      "Finished in 197.6 seconds\n",
      "Running the PFS ETC for GOODS-N.5077 at z 1.20 with mag 24.67for 5 hrs, sedfile 3DHST/sedsim.output/wfirst_simsed.GOODS-N.5077.dat.\n",
      " output: etcout/subaruPFS_SNR_GOODS-N.5077_z1.20_m24.67_5hrs.dat\n",
      "Finished in 192.7 seconds\n",
      "Running the PFS ETC for GOODS-N.5077 at z 1.20 with mag 24.67for 10 hrs, sedfile 3DHST/sedsim.output/wfirst_simsed.GOODS-N.5077.dat.\n",
      " output: etcout/subaruPFS_SNR_GOODS-N.5077_z1.20_m24.67_10hrs.dat\n",
      "Finished in 193.1 seconds\n",
      "Running the PFS ETC for UDS.32372 at z 1.53 with mag 24.45for 1 hrs, sedfile 3DHST/sedsim.output/wfirst_simsed.UDS.32372.dat.\n",
      " output: etcout/subaruPFS_SNR_UDS.32372_z1.53_m24.45_1hrs.dat\n",
      "Finished in 194.2 seconds\n",
      "Running the PFS ETC for UDS.32372 at z 1.53 with mag 24.45for 5 hrs, sedfile 3DHST/sedsim.output/wfirst_simsed.UDS.32372.dat.\n",
      " output: etcout/subaruPFS_SNR_UDS.32372_z1.53_m24.45_5hrs.dat\n",
      "Finished in 191.3 seconds\n",
      "Running the PFS ETC for UDS.32372 at z 1.53 with mag 24.45for 10 hrs, sedfile 3DHST/sedsim.output/wfirst_simsed.UDS.32372.dat.\n",
      " output: etcout/subaruPFS_SNR_UDS.32372_z1.53_m24.45_10hrs.dat\n",
      "Finished in 193.8 seconds\n",
      "Running the PFS ETC for UDS.35169 at z 1.51 with mag 24.94for 1 hrs, sedfile 3DHST/sedsim.output/wfirst_simsed.UDS.35169.dat.\n",
      " output: etcout/subaruPFS_SNR_UDS.35169_z1.51_m24.94_1hrs.dat\n",
      "Finished in 193.1 seconds\n",
      "Running the PFS ETC for UDS.35169 at z 1.51 with mag 24.94for 5 hrs, sedfile 3DHST/sedsim.output/wfirst_simsed.UDS.35169.dat.\n",
      " output: etcout/subaruPFS_SNR_UDS.35169_z1.51_m24.94_5hrs.dat\n",
      "Finished in 192.4 seconds\n",
      "Running the PFS ETC for UDS.35169 at z 1.51 with mag 24.94for 10 hrs, sedfile 3DHST/sedsim.output/wfirst_simsed.UDS.35169.dat.\n",
      " output: etcout/subaruPFS_SNR_UDS.35169_z1.51_m24.94_10hrs.dat\n",
      "Finished in 194.2 seconds\n",
      "Running the PFS ETC for GOODS-N.30339 at z 1.53 with mag 25.14for 1 hrs, sedfile 3DHST/sedsim.output/wfirst_simsed.GOODS-N.30339.dat.\n",
      " output: etcout/subaruPFS_SNR_GOODS-N.30339_z1.53_m25.14_1hrs.dat\n",
      "Finished in 198.7 seconds\n",
      "Running the PFS ETC for GOODS-N.30339 at z 1.53 with mag 25.14for 5 hrs, sedfile 3DHST/sedsim.output/wfirst_simsed.GOODS-N.30339.dat.\n",
      " output: etcout/subaruPFS_SNR_GOODS-N.30339_z1.53_m25.14_5hrs.dat\n",
      "Finished in 191.8 seconds\n",
      "Running the PFS ETC for GOODS-N.30339 at z 1.53 with mag 25.14for 10 hrs, sedfile 3DHST/sedsim.output/wfirst_simsed.GOODS-N.30339.dat.\n",
      " output: etcout/subaruPFS_SNR_GOODS-N.30339_z1.53_m25.14_10hrs.dat\n",
      "Finished in 193.6 seconds\n",
      "Running the PFS ETC for UDS.33369 at z 1.92 with mag 24.84for 1 hrs, sedfile 3DHST/sedsim.output/wfirst_simsed.UDS.33369.dat.\n",
      " output: etcout/subaruPFS_SNR_UDS.33369_z1.92_m24.84_1hrs.dat\n",
      "Finished in 193.2 seconds\n",
      "Running the PFS ETC for UDS.33369 at z 1.92 with mag 24.84for 5 hrs, sedfile 3DHST/sedsim.output/wfirst_simsed.UDS.33369.dat.\n",
      " output: etcout/subaruPFS_SNR_UDS.33369_z1.92_m24.84_5hrs.dat\n",
      "Finished in 193.1 seconds\n",
      "Running the PFS ETC for UDS.33369 at z 1.92 with mag 24.84for 10 hrs, sedfile 3DHST/sedsim.output/wfirst_simsed.UDS.33369.dat.\n",
      " output: etcout/subaruPFS_SNR_UDS.33369_z1.92_m24.84_10hrs.dat\n",
      "Finished in 193.0 seconds\n",
      "Running the PFS ETC for COSMOS.18387 at z 1.85 with mag 25.25for 1 hrs, sedfile 3DHST/sedsim.output/wfirst_simsed.COSMOS.18387.dat.\n",
      " output: etcout/subaruPFS_SNR_COSMOS.18387_z1.85_m25.25_1hrs.dat\n",
      "Finished in 191.0 seconds\n",
      "Running the PFS ETC for COSMOS.18387 at z 1.85 with mag 25.25for 5 hrs, sedfile 3DHST/sedsim.output/wfirst_simsed.COSMOS.18387.dat.\n",
      " output: etcout/subaruPFS_SNR_COSMOS.18387_z1.85_m25.25_5hrs.dat\n",
      "Finished in 193.4 seconds\n",
      "Running the PFS ETC for COSMOS.18387 at z 1.85 with mag 25.25for 10 hrs, sedfile 3DHST/sedsim.output/wfirst_simsed.COSMOS.18387.dat.\n",
      " output: etcout/subaruPFS_SNR_COSMOS.18387_z1.85_m25.25_10hrs.dat\n",
      "Finished in 193.9 seconds\n",
      "Running the PFS ETC for AEGIS.10352 at z 2.01 with mag 25.57for 1 hrs, sedfile 3DHST/sedsim.output/wfirst_simsed.AEGIS.10352.dat.\n",
      " output: etcout/subaruPFS_SNR_AEGIS.10352_z2.01_m25.57_1hrs.dat\n",
      "Finished in 199.0 seconds\n",
      "Running the PFS ETC for AEGIS.10352 at z 2.01 with mag 25.57for 5 hrs, sedfile 3DHST/sedsim.output/wfirst_simsed.AEGIS.10352.dat.\n",
      " output: etcout/subaruPFS_SNR_AEGIS.10352_z2.01_m25.57_5hrs.dat\n",
      "Finished in 192.5 seconds\n",
      "Running the PFS ETC for AEGIS.10352 at z 2.01 with mag 25.57for 10 hrs, sedfile 3DHST/sedsim.output/wfirst_simsed.AEGIS.10352.dat.\n",
      " output: etcout/subaruPFS_SNR_AEGIS.10352_z2.01_m25.57_10hrs.dat\n",
      "Finished in 193.2 seconds\n",
      "Running the PFS ETC for UDS.33369 at z 1.92 with mag 24.84for 1 hrs, sedfile 3DHST/sedsim.output/wfirst_simsed.UDS.33369.dat.\n",
      " output: etcout/subaruPFS_SNR_UDS.33369_z1.92_m24.84_1hrs.dat\n",
      "Finished in 191.2 seconds\n",
      "Running the PFS ETC for UDS.33369 at z 1.92 with mag 24.84for 5 hrs, sedfile 3DHST/sedsim.output/wfirst_simsed.UDS.33369.dat.\n",
      " output: etcout/subaruPFS_SNR_UDS.33369_z1.92_m24.84_5hrs.dat\n",
      "Finished in 194.3 seconds\n",
      "Running the PFS ETC for UDS.33369 at z 1.92 with mag 24.84for 10 hrs, sedfile 3DHST/sedsim.output/wfirst_simsed.UDS.33369.dat.\n",
      " output: etcout/subaruPFS_SNR_UDS.33369_z1.92_m24.84_10hrs.dat\n",
      "Finished in 193.4 seconds\n",
      "Running the PFS ETC for COSMOS.6790 at z 1.97 with mag 25.26for 1 hrs, sedfile 3DHST/sedsim.output/wfirst_simsed.COSMOS.6790.dat.\n",
      " output: etcout/subaruPFS_SNR_COSMOS.6790_z1.97_m25.26_1hrs.dat\n",
      "Finished in 194.0 seconds\n",
      "Running the PFS ETC for COSMOS.6790 at z 1.97 with mag 25.26for 5 hrs, sedfile 3DHST/sedsim.output/wfirst_simsed.COSMOS.6790.dat.\n",
      " output: etcout/subaruPFS_SNR_COSMOS.6790_z1.97_m25.26_5hrs.dat\n",
      "Finished in 192.0 seconds\n",
      "Running the PFS ETC for COSMOS.6790 at z 1.97 with mag 25.26for 10 hrs, sedfile 3DHST/sedsim.output/wfirst_simsed.COSMOS.6790.dat.\n",
      " output: etcout/subaruPFS_SNR_COSMOS.6790_z1.97_m25.26_10hrs.dat\n",
      "Finished in 192.8 seconds\n",
      "Running the PFS ETC for AEGIS.10352 at z 2.01 with mag 25.57for 1 hrs, sedfile 3DHST/sedsim.output/wfirst_simsed.AEGIS.10352.dat.\n",
      " output: etcout/subaruPFS_SNR_AEGIS.10352_z2.01_m25.57_1hrs.dat\n",
      "Finished in 195.3 seconds\n",
      "Running the PFS ETC for AEGIS.10352 at z 2.01 with mag 25.57for 5 hrs, sedfile 3DHST/sedsim.output/wfirst_simsed.AEGIS.10352.dat.\n",
      " output: etcout/subaruPFS_SNR_AEGIS.10352_z2.01_m25.57_5hrs.dat\n",
      "Finished in 195.4 seconds\n",
      "Running the PFS ETC for AEGIS.10352 at z 2.01 with mag 25.57for 10 hrs, sedfile 3DHST/sedsim.output/wfirst_simsed.AEGIS.10352.dat.\n",
      " output: etcout/subaruPFS_SNR_AEGIS.10352_z2.01_m25.57_10hrs.dat\n",
      "Finished in 192.6 seconds\n"
     ]
    }
   ],
   "source": [
    "reload(wfirst)\n",
    "sim2 = wfirst.WfirstSimData()\n",
    "sim2.load_simdata_catalog('wfirst_snhostspec_master.cat')\n",
    "idsubset = sim2.get_host_percentile_indices()\n",
    "sim2.simulate_subaru_snr_curves(np.ravel(idsubset))"
   ]
  },
  {
   "cell_type": "code",
   "execution_count": 102,
   "metadata": {
    "collapsed": false
   },
   "outputs": [
    {
     "name": "stdout",
     "output_type": "stream",
     "text": [
      "0.78 23.39\n",
      "0.82 23.82\n",
      "0.76 24.05\n",
      "1.20 23.98\n",
      "1.18 24.35\n",
      "1.20 24.67\n",
      "1.53 24.45\n",
      "1.51 24.94\n",
      "1.53 25.14\n",
      "1.92 24.84\n",
      "1.85 25.25\n",
      "2.01 25.57\n",
      "1.92 24.84\n",
      "1.97 25.26\n",
      "2.01 25.57\n"
     ]
    }
   ],
   "source": [
    "for idset in idsubset:\n",
    "    for id in idset:\n",
    "        print('{:.2f} {:.2f} '.format(\n",
    "                sim2.simdata['zmatch'][id], sim2.simdata['magmatch'][id]))"
   ]
  },
  {
   "cell_type": "code",
   "execution_count": 97,
   "metadata": {
    "collapsed": false
   },
   "outputs": [
    {
     "name": "stdout",
     "output_type": "stream",
     "text": [
      "[[471, 1718, 1209], [1122, 504, 1827], [1244, 604, 1781], [1093, 550, 566], [420, 420, 420]]\n"
     ]
    }
   ],
   "source": [
    "print(idsubset)"
   ]
  },
  {
   "cell_type": "code",
   "execution_count": 7,
   "metadata": {
    "collapsed": true
   },
   "outputs": [],
   "source": [
    "mastercat = wfirst.WfirstMasterHostCatalog()\n",
    "mastercat.load_all_simdata()\n",
    "mastercat.write('wfirst_snhostspec_master.cat')"
   ]
  },
  {
   "cell_type": "code",
   "execution_count": 13,
   "metadata": {
    "collapsed": false
   },
   "outputs": [],
   "source": [
    "mastercat2 = wfirst.WfirstMasterHostCatalog()\n",
    "mastercat2.read('wfirst_snhostspec_master.cat')"
   ]
  },
  {
   "cell_type": "code",
   "execution_count": 21,
   "metadata": {
    "collapsed": false
   },
   "outputs": [],
   "source": [
    "mastercat2.mastercat = ascii.read('wfirst_snhostspec_master.cat', format='commented_header')"
   ]
  },
  {
   "cell_type": "code",
   "execution_count": 23,
   "metadata": {
    "collapsed": false
   },
   "outputs": [],
   "source": [
    "mastercat2.simulate_all_seds()"
   ]
  },
  {
   "cell_type": "code",
   "execution_count": null,
   "metadata": {
    "collapsed": false
   },
   "outputs": [],
   "source": [
    "reload(wfirst)\n",
    "sim = wfirst.WfirstSimData('SNANA.SIM.OUTPUT/IMG_2T_4FILT_MD_SLT3_Z08_Ia-01_HEAD.FITS')\n",
    "sim.load_matchdata('3DHST/3dhst_master.phot.v4.1.cat.FITS')\n",
    "sim.get_matchlists()\n",
    "sim.simdata.write(\"wfirst_snhostgal_sim.dat\", format='ascii.commented_header')"
   ]
  },
  {
   "cell_type": "markdown",
   "metadata": {},
   "source": [
    "Read in the simulated SN data from the SNANA sim data files.\n",
    "Each SNANA simulation has generated a HEAD.FITS file that contains a binary table with metadata for each simulated SN and host galaxy.  The high-z host galaxy magnitudes have been drawn from distributions that match the CANDELS+CLASH sample -- so there is some selection bias built in, but it will be similar to the selection biases of the WFIRST SN survey (?). "
   ]
  },
  {
   "cell_type": "code",
   "execution_count": null,
   "metadata": {
    "collapsed": false
   },
   "outputs": [],
   "source": [
    "reload(wfirst)"
   ]
  },
  {
   "cell_type": "code",
   "execution_count": null,
   "metadata": {
    "collapsed": false
   },
   "outputs": [],
   "source": [
    "%pwd"
   ]
  },
  {
   "cell_type": "code",
   "execution_count": null,
   "metadata": {
    "collapsed": false
   },
   "outputs": [],
   "source": [
    "sim.snanadata.read?"
   ]
  },
  {
   "cell_type": "code",
   "execution_count": null,
   "metadata": {
    "collapsed": false
   },
   "outputs": [],
   "source": [
    "simlist = []\n",
    "simfilelist_med = glob('SNANA.SIM.OUTPUT/*Z08*HEAD.FITS')\n",
    "simfilelist_deep = glob('SNANA.SIM.OUTPUT/*Z17*HEAD.FITS')\n",
    "hostz_med, hostmag_med = np.array([]), np.array([])\n",
    "for simfile in simfilelist_med:\n",
    "    sim = wfirst.WfirstSimData(simfile)\n",
    "    sim.load_matchdata('3DHST/3dhst_master.phot.v4.1.cat.FITS')\n",
    "    sim.get_matchlists()\n",
    "    hostz_med = np.append(hostz_med, sim.zsim)\n",
    "    hostmag_med = np.append(hostmag_med, sim.mag)\n",
    "    simlist.append(sim)\n",
    "\n",
    "hostz_deep, hostmag_deep = np.array([]), np.array([])\n",
    "for simfile in simfilelist_deep:\n",
    "    sim = wfirst.WfirstSimData(simfile)\n",
    "    sim.load_matchdata('3DHST/3dhst_master.phot.v4.1.cat.FITS')\n",
    "    sim.get_matchlists()\n",
    "    hostz_deep = np.append(hostz_deep, sim.zsim)\n",
    "    hostmag_deep = np.append(hostmag_deep, sim.mag)\n",
    "    simlist.append(sim)    "
   ]
  },
  {
   "cell_type": "markdown",
   "metadata": {},
   "source": [
    "Now for each SNANA sim file, load in the catalog of galaxy SED data from 3DHST and use EAZY to simulate an SED.  The output simulated SEDs are stored in the sub-directory '3dHST/sedsim.output'"
   ]
  },
  {
   "cell_type": "code",
   "execution_count": null,
   "metadata": {
    "collapsed": false
   },
   "outputs": [],
   "source": [
    "if not os.path.isdir('3DHST/sedsim.output'):\n",
    "    os.mkdir('3DHST/sedsim.output')\n",
    "for sim in simlist:\n",
    "    sim.load_sed_data()\n",
    "    sim.simulate_seds()"
   ]
  },
  {
   "cell_type": "markdown",
   "metadata": {},
   "source": [
    "TODO NEXT : run the Subaru ETC on each simulated galaxy spectrum and determine the S/N achieved after 1 hour 5 hour, 10 hour exposures"
   ]
  },
  {
   "cell_type": "code",
   "execution_count": null,
   "metadata": {
    "collapsed": false
   },
   "outputs": [],
   "source": [
    "# Example of a spectrum plot\n",
    "eazyspecsim = wfirst.EazySpecSim('3DHST/sedsim.output/wfirst_simsed.AEGIS.0185.dat')\n",
    "eazyspecsim.plot()"
   ]
  },
  {
   "cell_type": "code",
   "execution_count": null,
   "metadata": {
    "collapsed": false
   },
   "outputs": [],
   "source": [
    "photdat3d = fits.open('3DHST/3dhst_master.phot.v4.1/3dhst_master.phot.v4.1.cat.FITS')\n",
    "f160 = photdat3d[1].data['f_F160W']\n",
    "zspec = photdat3d[1].data['z_spec']\n",
    "zphot = photdat3d[1].data['z_peak']\n",
    "zbest = np.where(zspec>0, zspec, zphot)\n",
    "usephot = photdat3d[1].data['use_phot']\n",
    "\n",
    "ivalid = np.where(((f160>0) & (zbest>0)) & (usephot==1) )[0]\n",
    "mH3D = -2.5*np.log10(f160[ivalid])+25\n",
    "z3D = zbest[ivalid]\n",
    "plt.plot(z3D, mH3D, 'b.', ls=' ', ms=1, alpha=0.1)\n",
    "#plt.plot(hostz_med, hostmag_med, 'g.', ls=' ', ms=3, alpha=0.3)\n",
    "plt.plot(hostz_deep, hostmag_deep, 'r.', ls=' ', ms=3, alpha=0.3)\n",
    "ax = plt.gca()\n",
    "xlim = ax.set_xlim(0,2.5)\n",
    "ylim = ax.set_ylim(28,20)\n",
    "ax.set_xlabel('redshift')\n",
    "ax.set_ylabel('host galaxy AB magnitude')"
   ]
  },
  {
   "cell_type": "code",
   "execution_count": null,
   "metadata": {
    "collapsed": false
   },
   "outputs": [],
   "source": [
    "ztestlist = [0.8,1.2,1.5,2.0,2.5]\n",
    "for ztest in ztestlist:\n",
    "    inear = np.where(np.abs(hostz_deep-ztest)<0.05)[0]\n",
    "    magnear = hostmag_deep[inear]\n",
    "    print(\"{:3.1f} {:4.1f} {:4.1f} {:4.1f}\".format(\n",
    "            ztest, magnear.min(), np.median(magnear), magnear.max()))"
   ]
  },
  {
   "cell_type": "code",
   "execution_count": null,
   "metadata": {
    "collapsed": false
   },
   "outputs": [],
   "source": [
    "sim1701.load_matchdata('3DHST/3dhst_master.phot.v4.1/3dhst_master.phot.v4.1.cat.FITS')\n",
    "sim1701.get_matchlists(dz=0.02, dH=0.2)"
   ]
  },
  {
   "cell_type": "code",
   "execution_count": null,
   "metadata": {
    "collapsed": false
   },
   "outputs": [],
   "source": [
    "sim1701.matchdata.columns"
   ]
  },
  {
   "cell_type": "code",
   "execution_count": null,
   "metadata": {
    "collapsed": false
   },
   "outputs": [],
   "source": [
    "fieldid = sim1701.matchid[0]\n",
    "fieldstr, idxstr = fieldid.split('.')\n",
    "field = fieldstr.lower().replace('-','')\n",
    "idx = int(idxstr)\n",
    "print(field)\n",
    "print(idx)\n",
    "print(sim1701.matchid[0])"
   ]
  },
  {
   "cell_type": "markdown",
   "metadata": {},
   "source": [
    "Generate a simulated host galaxy spectrum with EAZY "
   ]
  },
  {
   "cell_type": "code",
   "execution_count": null,
   "metadata": {
    "collapsed": false
   },
   "outputs": [],
   "source": [
    "templz, tempmag = wfirst.simulate_eazy_sed(sim1701.matchid[0], savetofile='wfirst_simsed.dat')"
   ]
  },
  {
   "cell_type": "markdown",
   "metadata": {},
   "source": [
    "TODO: run the ETC on the simulated spectrum\n",
    "\n",
    "from the command line we would do: \n",
    "\n",
    "  python ~/src/subarupfsETC/run_etc.py @wfirst_subarupfs_etc.defaults"
   ]
  },
  {
   "cell_type": "markdown",
   "metadata": {},
   "source": [
    "Read in the ETC output"
   ]
  },
  {
   "cell_type": "code",
   "execution_count": null,
   "metadata": {
    "collapsed": false
   },
   "outputs": [],
   "source": [
    "reload(wfirst)\n",
    "etcdat = wfirst.SubaruSpecSim('etcout/ref.snc.dat')"
   ]
  },
  {
   "cell_type": "code",
   "execution_count": null,
   "metadata": {
    "collapsed": false
   },
   "outputs": [],
   "source": [
    "plt.plot(etcdat.wave, etcdat.signaltonoise,'k-', marker=' ')"
   ]
  },
  {
   "cell_type": "code",
   "execution_count": null,
   "metadata": {
    "collapsed": false
   },
   "outputs": [],
   "source": [
    "tfinish = time.time()\n",
    "print('{:.3e} sec elapsed'.format(tfinish-tstart))"
   ]
  },
  {
   "cell_type": "code",
   "execution_count": null,
   "metadata": {
    "collapsed": true
   },
   "outputs": [],
   "source": []
  },
  {
   "cell_type": "code",
   "execution_count": null,
   "metadata": {
    "collapsed": false
   },
   "outputs": [],
   "source": [
    "fitsfilename = glob('3DHST/goodss_3dhst.*.eazypy.data.fits')[0]\n",
    "hdu = fits.open(fitsfilename)\n",
    "hdu.readall()\n",
    "hdu.close()\n",
    "hdu['ID'].data"
   ]
  },
  {
   "cell_type": "code",
   "execution_count": null,
   "metadata": {
    "collapsed": false
   },
   "outputs": [],
   "source": []
  },
  {
   "cell_type": "code",
   "execution_count": null,
   "metadata": {
    "collapsed": true
   },
   "outputs": [],
   "source": []
  },
  {
   "cell_type": "code",
   "execution_count": null,
   "metadata": {
    "collapsed": false
   },
   "outputs": [],
   "source": [
    "print len(templz)\n",
    "print len(tempmag)\n",
    "plt.plot(templz, tempmag, color='k', marker=' ', ls='-', lw=1)\n",
    "ax = plt.gca()\n",
    "ax.set_xlim(300,2100)\n",
    "ax.set_ylim(30, 20)\n",
    "print(templz.min())\n",
    "print(templz.max())\n",
    "print(tempmag.max())\n",
    "print(tempmag.min())"
   ]
  },
  {
   "cell_type": "code",
   "execution_count": null,
   "metadata": {
    "collapsed": true
   },
   "outputs": [],
   "source": []
  },
  {
   "cell_type": "code",
   "execution_count": null,
   "metadata": {
    "collapsed": false
   },
   "outputs": [],
   "source": [
    "print('{:.1f} {:.1f} {:.1f} {:.1f} '.format(np.min(sim1701.nmatch),\n",
    "        np.mean(sim1701.nmatch), np.median(sim1701.nmatch),\n",
    "        np.std(sim1701.nmatch)))\n",
    "plt.hist(sim1701.nmatch, bins=50)"
   ]
  },
  {
   "cell_type": "code",
   "execution_count": null,
   "metadata": {
    "collapsed": true
   },
   "outputs": [],
   "source": [
    "np.random.shuffle?"
   ]
  },
  {
   "cell_type": "markdown",
   "metadata": {},
   "source": [
    "Read in the simulated SN data from the SNANA sim data files.\n",
    "Each SNANA simulation has generated a HEAD.FITS file that contains a binary table with metadata for each simulated SN and host galaxy.  The high-z host galaxy magnitudes have been drawn from distributions that match the CANDELS+CLASH sample -- so there is some selection bias built in, but it will be similar to the selection biases of the WFIRST SN survey (?). \n",
    "\n",
    "The data we want to extract from the head.fits files are:  \n",
    "#COL  LABEL\n",
    "1 SNID\n",
    "9 SNTYPE\n",
    "22 HOSTGAL_PHOTOZ\n",
    "23 HOSTGAL_PHOTOZ_ERR\n",
    "24 HOSTGAL_SPECZ\n",
    "25 HOSTGAL_SPECZ_ERR\n",
    "27 HOSTGAL_LOGMASS\n",
    "28 HOSTGAL_LOGMASS_ERR\n",
    "XX HOSTGAL_MAG_R\n",
    "XX HOSTGAL_MAG_Y \n",
    "XX HOSTGAL_MAG_J\n",
    "XX HOSTGAL_MAG_H\n",
    "XX HOSTGAL_MAG_F\n",
    "49 SIM_REDSHIFT_HOST"
   ]
  },
  {
   "cell_type": "code",
   "execution_count": null,
   "metadata": {
    "collapsed": false
   },
   "outputs": [],
   "source": [
    "snanasimhead = fits.open(\n",
    "    'SNANA.SIM.OUTPUT/IMG_2T_4FILT_MD_SLT3_Z17_Ia-01_HEAD.FITS')\n",
    "zsim = snanasimhead[1].data['SIM_REDSHIFT_HOST']\n",
    "hostmagH = snanasimhead[1].data['HOSTGAL_MAG_H']\n",
    "fig = plt.figure(1)\n",
    "ax1 = fig.add_subplot(111)\n",
    "ax1.plot(zsim, hostmagH, marker='.', ls=' ', color='r')"
   ]
  },
  {
   "cell_type": "markdown",
   "metadata": {},
   "source": [
    "From the 3DHST catalog, we extract redshift and H band mag for the actual galaxies in the 3DHST fields.  Below is an overlay plot showing both the SN sample and the 3DHST sample."
   ]
  },
  {
   "cell_type": "code",
   "execution_count": null,
   "metadata": {
    "collapsed": false
   },
   "outputs": [],
   "source": [
    "photdat3d = fits.open('3DHST/3dhst_master.phot.v4.1/3dhst_master.phot.v4.1.cat.FITS')\n",
    "f160 = photdat3d[1].data['f_F160W']\n",
    "zspec = photdat3d[1].data['z_spec']\n",
    "zphot = photdat3d[1].data['z_peak']\n",
    "zbest = np.where(zspec>0, zspec, zphot)\n",
    "usephot = photdat3d[1].data['use_phot']\n",
    "\n",
    "ivalid = np.where(((f160>0) & (zbest>0)) & (usephot==1) )[0]\n",
    "mH3D = -2.5*np.log10(f160[ivalid])+25\n",
    "z3D = zbest[ivalid]\n",
    "plt.plot(z3D, mH3D, 'b.', ls=' ', ms=1, alpha=0.1)\n",
    "plt.plot(zsim, hostmagH, 'r.', ls=' ', ms=3, alpha=0.5)\n",
    "\n",
    "#photdat3d[1].header"
   ]
  },
  {
   "cell_type": "code",
   "execution_count": null,
   "metadata": {
    "collapsed": true
   },
   "outputs": [],
   "source": []
  }
 ],
 "metadata": {
  "kernelspec": {
   "display_name": "Python 2",
   "language": "python",
   "name": "python2"
  },
  "language_info": {
   "codemirror_mode": {
    "name": "ipython",
    "version": 2
   },
   "file_extension": ".py",
   "mimetype": "text/x-python",
   "name": "python",
   "nbconvert_exporter": "python",
   "pygments_lexer": "ipython2",
   "version": "2.7.12"
  }
 },
 "nbformat": 4,
 "nbformat_minor": 1
}

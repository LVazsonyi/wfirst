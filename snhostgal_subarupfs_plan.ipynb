{
 "cells": [
  {
   "cell_type": "code",
   "execution_count": 1,
   "metadata": {
    "collapsed": false
   },
   "outputs": [],
   "source": [
    "%matplotlib inline\n",
    "#%pdb\n",
    "#import time\n",
    "#tstart = time.time()"
   ]
  },
  {
   "cell_type": "code",
   "execution_count": 2,
   "metadata": {
    "collapsed": false
   },
   "outputs": [],
   "source": [
    "import numpy as np\n",
    "from astropy.io import fits\n",
    "from astropy.table import Table\n",
    "from matplotlib import pyplot as plt\n",
    "import wfirst_snhostspec as wfirst\n",
    "from glob import glob"
   ]
  },
  {
   "cell_type": "markdown",
   "metadata": {},
   "source": [
    "Read in the simulated SN data from the SNANA sim data files.\n",
    "Each SNANA simulation has generated a HEAD.FITS file that contains a binary table with metadata for each simulated SN and host galaxy.  The high-z host galaxy magnitudes have been drawn from distributions that match the CANDELS+CLASH sample -- so there is some selection bias built in, but it will be similar to the selection biases of the WFIRST SN survey (?). "
   ]
  },
  {
   "cell_type": "code",
   "execution_count": 3,
   "metadata": {
    "collapsed": false
   },
   "outputs": [],
   "source": [
    "simlist = []\n",
    "simfilelist_med = glob('SNANA.SIM.OUTPUT/*Z08*HEAD.FITS')\n",
    "simfilelist_deep = glob('SNANA.SIM.OUTPUT/*Z17*HEAD.FITS')\n",
    "hostz_med, hostmag_med = np.array([]), np.array([])\n",
    "for simfile in simfilelist_med:\n",
    "    sim = wfirst.WfirstSimData(simfile)\n",
    "    sim.load_matchdata('3DHST/3dhst_master.phot.v4.1/3dhst_master.phot.v4.1.cat.FITS')\n",
    "    sim.get_matchlists()\n",
    "    hostz_med = np.append(hostz_med, sim.zsim)\n",
    "    hostmag_med = np.append(hostmag_med, sim.mag)\n",
    "    simlist.append(sim)\n",
    "\n",
    "hostz_deep, hostmag_deep = np.array([]), np.array([])\n",
    "for simfile in simfilelist_deep:\n",
    "    sim = wfirst.WfirstSimData(simfile)\n",
    "    sim.load_matchdata('3DHST/3dhst_master.phot.v4.1/3dhst_master.phot.v4.1.cat.FITS')\n",
    "    sim.get_matchlists()\n",
    "    hostz_deep = np.append(hostz_deep, sim.zsim)\n",
    "    hostmag_deep = np.append(hostmag_deep, sim.mag)\n",
    "    simlist.append(sim)    "
   ]
  },
  {
   "cell_type": "markdown",
   "metadata": {},
   "source": [
    "Now for each SNANA sim file, load in the catalog of galaxy SED data from 3DHST and use EAZY to simulate an SED.  The output simulated SEDs are stored in the sub-directory '3dHST/sedsim.output'"
   ]
  },
  {
   "cell_type": "code",
   "execution_count": 4,
   "metadata": {
    "collapsed": false
   },
   "outputs": [
    {
     "name": "stderr",
     "output_type": "stream",
     "text": [
      "wfirst_snhostspec.py:207: RuntimeWarning: divide by zero encountered in double_scalars\n",
      "  flam_spec = 1. / (1 + z) ** 2\n",
      "wfirst_snhostspec.py:208: RuntimeWarning: invalid value encountered in multiply\n",
      "  tempflux = templf * fnu_factor * flam_spec\n",
      "wfirst_snhostspec.py:227: RuntimeWarning: divide by zero encountered in log10\n",
      "  3.34e4 * wave * wave * f_lambda / 3631)\n"
     ]
    }
   ],
   "source": [
    "if not os.path.isdir('3DHST/sedsim.output'):\n",
    "    os.mkdir('3DHST/sedsim.output')\n",
    "for sim in simlist:\n",
    "    sim.load_sed_data()\n",
    "    sim.simulate_seds()"
   ]
  },
  {
   "cell_type": "markdown",
   "metadata": {},
   "source": [
    "TODO NEXT : run the Subaru ETC on each simulated galaxy spectrum and determine the S/N achieved after 1 hour 5 hour, 10 hour exposures"
   ]
  },
  {
   "cell_type": "code",
   "execution_count": null,
   "metadata": {
    "collapsed": false
   },
   "outputs": [],
   "source": [
    "# Example of a spectrum plot\n",
    "eazyspecsim = wfirst.EazySpecSim('3DHST/sedsim.output/wfirst_simsed.AEGIS.0185.dat')\n",
    "eazyspecsim.plot()"
   ]
  },
  {
   "cell_type": "code",
   "execution_count": null,
   "metadata": {
    "collapsed": false
   },
   "outputs": [],
   "source": [
    "photdat3d = fits.open('3DHST/3dhst_master.phot.v4.1/3dhst_master.phot.v4.1.cat.FITS')\n",
    "f160 = photdat3d[1].data['f_F160W']\n",
    "zspec = photdat3d[1].data['z_spec']\n",
    "zphot = photdat3d[1].data['z_peak']\n",
    "zbest = np.where(zspec>0, zspec, zphot)\n",
    "usephot = photdat3d[1].data['use_phot']\n",
    "\n",
    "ivalid = np.where(((f160>0) & (zbest>0)) & (usephot==1) )[0]\n",
    "mH3D = -2.5*np.log10(f160[ivalid])+25\n",
    "z3D = zbest[ivalid]\n",
    "plt.plot(z3D, mH3D, 'b.', ls=' ', ms=1, alpha=0.1)\n",
    "#plt.plot(hostz_med, hostmag_med, 'g.', ls=' ', ms=3, alpha=0.3)\n",
    "plt.plot(hostz_deep, hostmag_deep, 'r.', ls=' ', ms=3, alpha=0.3)\n",
    "ax = plt.gca()\n",
    "xlim = ax.set_xlim(0,2.5)\n",
    "ylim = ax.set_ylim(28,20)\n",
    "ax.set_xlabel('redshift')\n",
    "ax.set_ylabel('host galaxy AB magnitude')"
   ]
  },
  {
   "cell_type": "code",
   "execution_count": null,
   "metadata": {
    "collapsed": false
   },
   "outputs": [],
   "source": [
    "ztestlist = [0.8,1.2,1.5,2.0,2.5]\n",
    "for ztest in ztestlist:\n",
    "    inear = np.where(np.abs(hostz_deep-ztest)<0.05)[0]\n",
    "    magnear = hostmag_deep[inear]\n",
    "    print(\"{:3.1f} {:4.1f} {:4.1f} {:4.1f}\".format(\n",
    "            ztest, magnear.min(), np.median(magnear), magnear.max()))"
   ]
  },
  {
   "cell_type": "code",
   "execution_count": null,
   "metadata": {
    "collapsed": false
   },
   "outputs": [],
   "source": [
    "sim1701.load_matchdata('3DHST/3dhst_master.phot.v4.1/3dhst_master.phot.v4.1.cat.FITS')\n",
    "sim1701.get_matchlists(dz=0.02, dH=0.2)"
   ]
  },
  {
   "cell_type": "code",
   "execution_count": null,
   "metadata": {
    "collapsed": false
   },
   "outputs": [],
   "source": [
    "sim1701.matchdata.columns"
   ]
  },
  {
   "cell_type": "code",
   "execution_count": null,
   "metadata": {
    "collapsed": false
   },
   "outputs": [],
   "source": [
    "fieldid = sim1701.matchid[0]\n",
    "fieldstr, idxstr = fieldid.split('.')\n",
    "field = fieldstr.lower().replace('-','')\n",
    "idx = int(idxstr)\n",
    "print(field)\n",
    "print(idx)\n",
    "print(sim1701.matchid[0])"
   ]
  },
  {
   "cell_type": "markdown",
   "metadata": {},
   "source": [
    "Generate a simulated host galaxy spectrum with EAZY "
   ]
  },
  {
   "cell_type": "code",
   "execution_count": null,
   "metadata": {
    "collapsed": false
   },
   "outputs": [],
   "source": [
    "templz, tempmag = wfirst.simulate_eazy_sed(sim1701.matchid[0], savetofile='wfirst_simsed.dat')"
   ]
  },
  {
   "cell_type": "markdown",
   "metadata": {},
   "source": [
    "TODO: run the ETC on the simulated spectrum\n",
    "\n",
    "from the command line we would do: \n",
    "\n",
    "  python ~/src/subarupfsETC/run_etc.py @wfirst_subarupfs_etc.defaults"
   ]
  },
  {
   "cell_type": "markdown",
   "metadata": {},
   "source": [
    "Read in the ETC output"
   ]
  },
  {
   "cell_type": "code",
   "execution_count": null,
   "metadata": {
    "collapsed": false
   },
   "outputs": [],
   "source": [
    "reload(wfirst)\n",
    "etcdat = wfirst.SubaruSpecSim('etcout/ref.snc.dat')"
   ]
  },
  {
   "cell_type": "code",
   "execution_count": null,
   "metadata": {
    "collapsed": false
   },
   "outputs": [],
   "source": [
    "plt.plot(etcdat.wave, etcdat.signaltonoise,'k-', marker=' ')"
   ]
  },
  {
   "cell_type": "code",
   "execution_count": null,
   "metadata": {
    "collapsed": false
   },
   "outputs": [],
   "source": [
    "tfinish = time.time()\n",
    "print('{:.3e} sec elapsed'.format(tfinish-tstart))"
   ]
  },
  {
   "cell_type": "code",
   "execution_count": null,
   "metadata": {
    "collapsed": true
   },
   "outputs": [],
   "source": []
  },
  {
   "cell_type": "code",
   "execution_count": null,
   "metadata": {
    "collapsed": false
   },
   "outputs": [],
   "source": [
    "fitsfilename = glob('3DHST/goodss_3dhst.*.eazypy.data.fits')[0]\n",
    "hdu = fits.open(fitsfilename)\n",
    "hdu.readall()\n",
    "hdu.close()\n",
    "hdu['ID'].data"
   ]
  },
  {
   "cell_type": "code",
   "execution_count": null,
   "metadata": {
    "collapsed": false
   },
   "outputs": [],
   "source": []
  },
  {
   "cell_type": "code",
   "execution_count": null,
   "metadata": {
    "collapsed": true
   },
   "outputs": [],
   "source": []
  },
  {
   "cell_type": "code",
   "execution_count": null,
   "metadata": {
    "collapsed": false
   },
   "outputs": [],
   "source": [
    "print len(templz)\n",
    "print len(tempmag)\n",
    "plt.plot(templz, tempmag, color='k', marker=' ', ls='-', lw=1)\n",
    "ax = plt.gca()\n",
    "ax.set_xlim(300,2100)\n",
    "ax.set_ylim(30, 20)\n",
    "print(templz.min())\n",
    "print(templz.max())\n",
    "print(tempmag.max())\n",
    "print(tempmag.min())"
   ]
  },
  {
   "cell_type": "code",
   "execution_count": null,
   "metadata": {
    "collapsed": true
   },
   "outputs": [],
   "source": []
  },
  {
   "cell_type": "code",
   "execution_count": null,
   "metadata": {
    "collapsed": false
   },
   "outputs": [],
   "source": [
    "print('{:.1f} {:.1f} {:.1f} {:.1f} '.format(np.min(sim1701.nmatch),\n",
    "        np.mean(sim1701.nmatch), np.median(sim1701.nmatch),\n",
    "        np.std(sim1701.nmatch)))\n",
    "plt.hist(sim1701.nmatch, bins=50)"
   ]
  },
  {
   "cell_type": "code",
   "execution_count": null,
   "metadata": {
    "collapsed": true
   },
   "outputs": [],
   "source": [
    "np.random.shuffle?"
   ]
  },
  {
   "cell_type": "markdown",
   "metadata": {},
   "source": [
    "Read in the simulated SN data from the SNANA sim data files.\n",
    "Each SNANA simulation has generated a HEAD.FITS file that contains a binary table with metadata for each simulated SN and host galaxy.  The high-z host galaxy magnitudes have been drawn from distributions that match the CANDELS+CLASH sample -- so there is some selection bias built in, but it will be similar to the selection biases of the WFIRST SN survey (?). \n",
    "\n",
    "The data we want to extract from the head.fits files are:  \n",
    "#COL  LABEL\n",
    "1 SNID\n",
    "9 SNTYPE\n",
    "22 HOSTGAL_PHOTOZ\n",
    "23 HOSTGAL_PHOTOZ_ERR\n",
    "24 HOSTGAL_SPECZ\n",
    "25 HOSTGAL_SPECZ_ERR\n",
    "27 HOSTGAL_LOGMASS\n",
    "28 HOSTGAL_LOGMASS_ERR\n",
    "XX HOSTGAL_MAG_R\n",
    "XX HOSTGAL_MAG_Y \n",
    "XX HOSTGAL_MAG_J\n",
    "XX HOSTGAL_MAG_H\n",
    "XX HOSTGAL_MAG_F\n",
    "49 SIM_REDSHIFT_HOST"
   ]
  },
  {
   "cell_type": "code",
   "execution_count": null,
   "metadata": {
    "collapsed": false
   },
   "outputs": [],
   "source": [
    "snanasimhead = fits.open(\n",
    "    'SNANA.SIM.OUTPUT/IMG_2T_4FILT_MD_SLT3_Z17_Ia-01_HEAD.FITS')\n",
    "zsim = snanasimhead[1].data['SIM_REDSHIFT_HOST']\n",
    "hostmagH = snanasimhead[1].data['HOSTGAL_MAG_H']\n",
    "fig = plt.figure(1)\n",
    "ax1 = fig.add_subplot(111)\n",
    "ax1.plot(zsim, hostmagH, marker='.', ls=' ', color='r')"
   ]
  },
  {
   "cell_type": "markdown",
   "metadata": {},
   "source": [
    "From the 3DHST catalog, we extract redshift and H band mag for the actual galaxies in the 3DHST fields.  Below is an overlay plot showing both the SN sample and the 3DHST sample."
   ]
  },
  {
   "cell_type": "code",
   "execution_count": null,
   "metadata": {
    "collapsed": false
   },
   "outputs": [],
   "source": [
    "photdat3d = fits.open('3DHST/3dhst_master.phot.v4.1/3dhst_master.phot.v4.1.cat.FITS')\n",
    "f160 = photdat3d[1].data['f_F160W']\n",
    "zspec = photdat3d[1].data['z_spec']\n",
    "zphot = photdat3d[1].data['z_peak']\n",
    "zbest = np.where(zspec>0, zspec, zphot)\n",
    "usephot = photdat3d[1].data['use_phot']\n",
    "\n",
    "ivalid = np.where(((f160>0) & (zbest>0)) & (usephot==1) )[0]\n",
    "mH3D = -2.5*np.log10(f160[ivalid])+25\n",
    "z3D = zbest[ivalid]\n",
    "plt.plot(z3D, mH3D, 'b.', ls=' ', ms=1, alpha=0.1)\n",
    "plt.plot(zsim, hostmagH, 'r.', ls=' ', ms=3, alpha=0.5)\n",
    "\n",
    "#photdat3d[1].header"
   ]
  },
  {
   "cell_type": "code",
   "execution_count": null,
   "metadata": {
    "collapsed": true
   },
   "outputs": [],
   "source": []
  }
 ],
 "metadata": {
  "kernelspec": {
   "display_name": "Python 2",
   "language": "python",
   "name": "python2"
  },
  "language_info": {
   "codemirror_mode": {
    "name": "ipython",
    "version": 2
   },
   "file_extension": ".py",
   "mimetype": "text/x-python",
   "name": "python",
   "nbconvert_exporter": "python",
   "pygments_lexer": "ipython2",
   "version": "2.7.12"
  }
 },
 "nbformat": 4,
 "nbformat_minor": 1
}

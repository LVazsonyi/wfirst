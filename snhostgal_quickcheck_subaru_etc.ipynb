{
 "cells": [
  {
   "cell_type": "markdown",
   "metadata": {
    "collapsed": false
   },
   "source": [
    "Part IIa :  (a quick check with just 15 representative galaxy SEDs)\n",
    "\n",
    "(1) Read in simulated host galaxy data from the catalog built in Part I\n",
    "\n",
    "(2) Pull out a subset of galaxies around each redshift in [0.8, 1.2, 1.5, 1.8, 2.2]\n",
    "\n",
    "(3) For each redshift subset, identify the host galaxy magnitude that is fainter than 50%, 80% and 95% of the subset in that redshift bin.\n",
    "\n",
    "(4) Use EAZY to make a simulated spectrum for each representative galaxy.\n",
    "\n",
    "(5) Run the Subaru ETC for each of those \"percentile marker\" galaxies. The ETC outputs a \"S/N spectrum\", with S/N per pixel vs. wavelength"
   ]
  },
  {
   "cell_type": "code",
   "execution_count": null,
   "metadata": {
    "collapsed": false
   },
   "outputs": [],
   "source": [
    "%matplotlib inline\n",
    "%pdb\n",
    "#import time\n",
    "#tstart = time.time()"
   ]
  },
  {
   "cell_type": "code",
   "execution_count": null,
   "metadata": {
    "collapsed": false
   },
   "outputs": [],
   "source": [
    "import numpy as np\n",
    "from astropy.io import fits\n",
    "from astropy.table import Table\n",
    "from matplotlib import pyplot as plt\n",
    "import snhostspec\n",
    "from glob import glob"
   ]
  },
  {
   "cell_type": "code",
   "execution_count": null,
   "metadata": {
    "collapsed": false
   },
   "outputs": [],
   "source": [
    "reload(snhostspec)\n",
    "sim2 = snhostspec.SnanaSimData()\n",
    "sim2.load_simdata_catalog('wfirst_snhostspec2.cat')"
   ]
  },
  {
   "cell_type": "code",
   "execution_count": null,
   "metadata": {
    "collapsed": true
   },
   "outputs": [],
   "source": [
    "idsubset = sim2.get_host_percentile_indices(zlist=[1.5,1.8,2.2])\n",
    "sim2.simulate_subaru_snr_curves(np.ravel(idsubset))"
   ]
  },
  {
   "cell_type": "code",
   "execution_count": null,
   "metadata": {
    "collapsed": false
   },
   "outputs": [],
   "source": [
    "fig = plt.figure(figsize=[13,3])\n",
    "for et, iax  in zip([1, 5, 10,40], [1,2,3,4]):\n",
    "    ax = fig.add_subplot(1,4,iax)\n",
    "    ietwin = np.where((zcheck['exptime']==et) & (zcheck['gotz']>0))[0]\n",
    "    ietfail = np.where((zcheck['exptime']==et) & (zcheck['gotz']<1))[0]\n",
    "    ax.plot(zcheck['z'][ietwin], zcheck['mag'][ietwin], 'ro', ls=' ')\n",
    "    ax.plot(zcheck['z'][ietfail], zcheck['mag'][ietfail], 'ks', ls=' ')\n",
    "ax1 = fig.add_subplot(1,3,1)\n",
    "ax2 = fig.add_subplot(1,3,2)\n",
    "ax3 = fig.add_subplot(1,3,3)\n",
    "ax1.invert_yaxis()\n",
    "ax2.invert_yaxis()\n",
    "ax3.invert_yaxis()\n",
    "ax1.set_title('1hr')\n",
    "ax2.set_title('5hr')\n",
    "ax3.set_title('10hr')\n",
    "ax1.set_ylabel('host gal H band mag')\n",
    "ax2.set_xlabel('redshift')"
   ]
  },
  {
   "cell_type": "code",
   "execution_count": null,
   "metadata": {
    "collapsed": true
   },
   "outputs": [],
   "source": [
    "mastercat = wfirst.WfirstMasterHostCatalog()\n",
    "mastercat.load_all_simdata()\n",
    "mastercat.write('wfirst_snhostspec_master.cat')"
   ]
  },
  {
   "cell_type": "code",
   "execution_count": null,
   "metadata": {
    "collapsed": false
   },
   "outputs": [],
   "source": [
    "mastercat2 = wfirst.WfirstMasterHostCatalog()\n",
    "mastercat2.read('wfirst_snhostspec_master.cat')"
   ]
  },
  {
   "cell_type": "code",
   "execution_count": null,
   "metadata": {
    "collapsed": false
   },
   "outputs": [],
   "source": [
    "mastercat2.mastercat = ascii.read('wfirst_snhostspec_master.cat', format='commented_header')"
   ]
  },
  {
   "cell_type": "code",
   "execution_count": null,
   "metadata": {
    "collapsed": false
   },
   "outputs": [],
   "source": [
    "mastercat2.simulate_all_seds()"
   ]
  },
  {
   "cell_type": "code",
   "execution_count": null,
   "metadata": {
    "collapsed": false
   },
   "outputs": [],
   "source": [
    "reload(wfirst)\n",
    "sim = wfirst.WfirstSimData('SNANA.SIM.OUTPUT/IMG_2T_4FILT_MD_SLT3_Z08_Ia-01_HEAD.FITS')\n",
    "sim.load_matchdata('3DHST/3dhst_master.phot.v4.1.cat.FITS')\n",
    "sim.get_matchlists()\n",
    "sim.simdata.write(\"wfirst_snhostgal_sim.dat\", format='ascii.commented_header')"
   ]
  },
  {
   "cell_type": "markdown",
   "metadata": {},
   "source": [
    "Read in the simulated SN data from the SNANA sim data files.\n",
    "Each SNANA simulation has generated a HEAD.FITS file that contains a binary table with metadata for each simulated SN and host galaxy.  The high-z host galaxy magnitudes have been drawn from distributions that match the CANDELS+CLASH sample -- so there is some selection bias built in, but it will be similar to the selection biases of the WFIRST SN survey (?). "
   ]
  },
  {
   "cell_type": "code",
   "execution_count": null,
   "metadata": {
    "collapsed": false
   },
   "outputs": [],
   "source": [
    "reload(wfirst)"
   ]
  },
  {
   "cell_type": "code",
   "execution_count": null,
   "metadata": {
    "collapsed": false
   },
   "outputs": [],
   "source": [
    "%pwd"
   ]
  },
  {
   "cell_type": "code",
   "execution_count": null,
   "metadata": {
    "collapsed": false
   },
   "outputs": [],
   "source": [
    "sim.snanadata.read?"
   ]
  },
  {
   "cell_type": "code",
   "execution_count": null,
   "metadata": {
    "collapsed": false
   },
   "outputs": [],
   "source": [
    "simlist = []\n",
    "simfilelist_med = glob('SNANA.SIM.OUTPUT/*Z08*HEAD.FITS')\n",
    "simfilelist_deep = glob('SNANA.SIM.OUTPUT/*Z17*HEAD.FITS')\n",
    "hostz_med, hostmag_med = np.array([]), np.array([])\n",
    "for simfile in simfilelist_med:\n",
    "    sim = wfirst.WfirstSimData(simfile)\n",
    "    sim.load_matchdata('3DHST/3dhst_master.phot.v4.1.cat.FITS')\n",
    "    sim.get_matchlists()\n",
    "    hostz_med = np.append(hostz_med, sim.zsim)\n",
    "    hostmag_med = np.append(hostmag_med, sim.mag)\n",
    "    simlist.append(sim)\n",
    "\n",
    "hostz_deep, hostmag_deep = np.array([]), np.array([])\n",
    "for simfile in simfilelist_deep:\n",
    "    sim = wfirst.WfirstSimData(simfile)\n",
    "    sim.load_matchdata('3DHST/3dhst_master.phot.v4.1.cat.FITS')\n",
    "    sim.get_matchlists()\n",
    "    hostz_deep = np.append(hostz_deep, sim.zsim)\n",
    "    hostmag_deep = np.append(hostmag_deep, sim.mag)\n",
    "    simlist.append(sim)    "
   ]
  },
  {
   "cell_type": "markdown",
   "metadata": {},
   "source": [
    "Now for each SNANA sim file, load in the catalog of galaxy SED data from 3DHST and use EAZY to simulate an SED.  The output simulated SEDs are stored in the sub-directory '3dHST/sedsim.output'"
   ]
  },
  {
   "cell_type": "code",
   "execution_count": null,
   "metadata": {
    "collapsed": false
   },
   "outputs": [],
   "source": [
    "if not os.path.isdir('3DHST/sedsim.output'):\n",
    "    os.mkdir('3DHST/sedsim.output')\n",
    "for sim in simlist:\n",
    "    sim.load_sed_data()\n",
    "    sim.simulate_seds()"
   ]
  },
  {
   "cell_type": "markdown",
   "metadata": {},
   "source": [
    "TODO NEXT : run the Subaru ETC on each simulated galaxy spectrum and determine the S/N achieved after 1 hour 5 hour, 10 hour exposures"
   ]
  },
  {
   "cell_type": "code",
   "execution_count": null,
   "metadata": {
    "collapsed": false
   },
   "outputs": [],
   "source": [
    "# Example of a spectrum plot\n",
    "eazyspecsim = wfirst.EazySpecSim('3DHST/sedsim.output/wfirst_simsed.AEGIS.0185.dat')\n",
    "eazyspecsim.plot()"
   ]
  },
  {
   "cell_type": "code",
   "execution_count": null,
   "metadata": {
    "collapsed": false
   },
   "outputs": [],
   "source": [
    "photdat3d = fits.open('3DHST/3dhst_master.phot.v4.1/3dhst_master.phot.v4.1.cat.FITS')\n",
    "f160 = photdat3d[1].data['f_F160W']\n",
    "zspec = photdat3d[1].data['z_spec']\n",
    "zphot = photdat3d[1].data['z_peak']\n",
    "zbest = np.where(zspec>0, zspec, zphot)\n",
    "usephot = photdat3d[1].data['use_phot']\n",
    "\n",
    "ivalid = np.where(((f160>0) & (zbest>0)) & (usephot==1) )[0]\n",
    "mH3D = -2.5*np.log10(f160[ivalid])+25\n",
    "z3D = zbest[ivalid]\n",
    "plt.plot(z3D, mH3D, 'b.', ls=' ', ms=1, alpha=0.1)\n",
    "#plt.plot(hostz_med, hostmag_med, 'g.', ls=' ', ms=3, alpha=0.3)\n",
    "plt.plot(hostz_deep, hostmag_deep, 'r.', ls=' ', ms=3, alpha=0.3)\n",
    "ax = plt.gca()\n",
    "xlim = ax.set_xlim(0,2.5)\n",
    "ylim = ax.set_ylim(28,20)\n",
    "ax.set_xlabel('redshift')\n",
    "ax.set_ylabel('host galaxy AB magnitude')"
   ]
  }
 ],
 "metadata": {
  "kernelspec": {
   "display_name": "Python 2",
   "language": "python",
   "name": "python2"
  },
  "language_info": {
   "codemirror_mode": {
    "name": "ipython",
    "version": 2
   },
   "file_extension": ".py",
   "mimetype": "text/x-python",
   "name": "python",
   "nbconvert_exporter": "python",
   "pygments_lexer": "ipython2",
   "version": "2.7.12"
  }
 },
 "nbformat": 4,
 "nbformat_minor": 1
}

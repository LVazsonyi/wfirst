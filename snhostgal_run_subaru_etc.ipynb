{
 "cells": [
  {
   "cell_type": "markdown",
   "metadata": {},
   "source": [
    "Part II :\n",
    "\n",
    "(1) Read in simulated host galaxy data from the catalog built in Part I\n",
    "\n",
    "(2) Pull out a subset of galaxies around each redshift in [0.8, 1.0, 1.2, 1.5, 1.8, 2.2]\n",
    "\n",
    "(3) For each redshift subset, identify the host galaxy magnitude that is fainter than 50%, 80% and 95% of the subset in that redshift bin.\n",
    "\n",
    "(4) Run the Subaru ETC for each of those \"percentile marker\" galaxies. The ETC outputs a \"S/N spectrum\", with S/N per pixel vs. wavelength"
   ]
  },
  {
   "cell_type": "code",
   "execution_count": null,
   "metadata": {
    "collapsed": false
   },
   "outputs": [],
   "source": [
    "%matplotlib inline"
   ]
  },
  {
   "cell_type": "code",
   "execution_count": 2,
   "metadata": {
    "collapsed": false
   },
   "outputs": [],
   "source": [
    "import numpy as np\n",
    "from astropy.io import fits\n",
    "from astropy.table import Table\n",
    "from matplotlib import pyplot as plt\n",
    "import snhostspec\n",
    "from glob import glob"
   ]
  },
  {
   "cell_type": "code",
   "execution_count": 3,
   "metadata": {
    "collapsed": false
   },
   "outputs": [
    {
     "name": "stdout",
     "output_type": "stream",
     "text": [
      "Initiliazed an empty WfirstSimData object\n"
     ]
    }
   ],
   "source": [
    "reload(snhostspec)\n",
    "sim = snhostspec.SnanaSimData()\n",
    "sim.load_simdata_catalog('wfirst_snhostspec_master.cat')\n",
    "# pick out the \"percentile marker\" subset\n",
    "indexlist = sim.get_host_percentile_indices(zlist=[0.8,1.2,1.5,1.8,2.2])"
   ]
  },
  {
   "cell_type": "code",
   "execution_count": 6,
   "metadata": {
    "collapsed": false
   },
   "outputs": [
    {
     "name": "stdout",
     "output_type": "stream",
     "text": [
      "Loading data for best-fit SEDs from 3DHST fits to observed photometry for all galaxies in all five CANDELS fields...\n"
     ]
    },
    {
     "name": "stderr",
     "output_type": "stream",
     "text": [
      "snhostspec.py:196: FutureWarning: elementwise comparison failed; returning scalar instead, but in the future will perform elementwise comparison\n",
      "  if indexlist is None:\n"
     ]
    },
    {
     "name": "stdout",
     "output_type": "stream",
     "text": [
      "Using Gabe Brammer's EAZY code to generate the best-fit SEDs of the observed galaxies that we have matched up to the SNANA simulation hostgal data.\n"
     ]
    },
    {
     "name": "stderr",
     "output_type": "stream",
     "text": [
      "snhostspec.py:487: RuntimeWarning: divide by zero encountered in double_scalars\n",
      "  flam_spec = 1. / (1 + z) ** 2\n",
      "snhostspec.py:488: RuntimeWarning: invalid value encountered in multiply\n",
      "  tempflux = templf * fnu_factor * flam_spec\n",
      "/usr/local/anaconda2/envs/astro2/lib/python2.7/site-packages/eazy/igm.py:196: RuntimeWarning: divide by zero encountered in double_scalars\n",
      "  return a**b\n"
     ]
    }
   ],
   "source": [
    "reload(snhostspec)\n",
    "sim.load_sed_data()\n",
    "sim.simulate_host_spectra(indexlist=indexlist)"
   ]
  },
  {
   "cell_type": "code",
   "execution_count": 7,
   "metadata": {
    "collapsed": false
   },
   "outputs": [
    {
     "name": "stdout",
     "output_type": "stream",
     "text": [
      "Wrote sim data catalog to wfirst_snhostspec_master.cat\n"
     ]
    }
   ],
   "source": [
    "sim.write_catalog(\"wfirst_snhostspec_master.cat\")"
   ]
  },
  {
   "cell_type": "code",
   "execution_count": 8,
   "metadata": {
    "collapsed": false
   },
   "outputs": [
    {
     "name": "stdout",
     "output_type": "stream",
     "text": [
      "Running the PFS ETC for UDS.0768 at z 0.80 with mag 23.33for 1 hrs, sedfile 3DHST/sedsim.output/wfirst_simsed.UDS.0768.dat.\n",
      " output: etcout/subaruPFS_SNR_UDS.0768_z0.80_m23.33_1hrs.dat\n",
      "Finished in 217.2 seconds\n",
      "Running the PFS ETC for UDS.0768 at z 0.80 with mag 23.33for 5 hrs, sedfile 3DHST/sedsim.output/wfirst_simsed.UDS.0768.dat.\n",
      " output: etcout/subaruPFS_SNR_UDS.0768_z0.80_m23.33_5hrs.dat\n",
      "Finished in 197.7 seconds\n",
      "Running the PFS ETC for UDS.0768 at z 0.80 with mag 23.33for 10 hrs, sedfile 3DHST/sedsim.output/wfirst_simsed.UDS.0768.dat.\n",
      " output: etcout/subaruPFS_SNR_UDS.0768_z0.80_m23.33_10hrs.dat\n",
      "Finished in 203.6 seconds\n",
      "Running the PFS ETC for UDS.0768 at z 0.80 with mag 23.33for 40 hrs, sedfile 3DHST/sedsim.output/wfirst_simsed.UDS.0768.dat.\n",
      " output: etcout/subaruPFS_SNR_UDS.0768_z0.80_m23.33_40hrs.dat\n",
      "Finished in 196.9 seconds\n",
      "Running the PFS ETC for GOODS-N.25261 at z 0.80 with mag 23.84for 1 hrs, sedfile 3DHST/sedsim.output/wfirst_simsed.GOODS-N.25261.dat.\n",
      " output: etcout/subaruPFS_SNR_GOODS-N.25261_z0.80_m23.84_1hrs.dat\n",
      "Finished in 199.0 seconds\n",
      "Running the PFS ETC for GOODS-N.25261 at z 0.80 with mag 23.84for 5 hrs, sedfile 3DHST/sedsim.output/wfirst_simsed.GOODS-N.25261.dat.\n",
      " output: etcout/subaruPFS_SNR_GOODS-N.25261_z0.80_m23.84_5hrs.dat\n",
      "Finished in 198.3 seconds\n",
      "Running the PFS ETC for GOODS-N.25261 at z 0.80 with mag 23.84for 10 hrs, sedfile 3DHST/sedsim.output/wfirst_simsed.GOODS-N.25261.dat.\n",
      " output: etcout/subaruPFS_SNR_GOODS-N.25261_z0.80_m23.84_10hrs.dat\n",
      "Finished in 196.7 seconds\n",
      "Running the PFS ETC for GOODS-N.25261 at z 0.80 with mag 23.84for 40 hrs, sedfile 3DHST/sedsim.output/wfirst_simsed.GOODS-N.25261.dat.\n",
      " output: etcout/subaruPFS_SNR_GOODS-N.25261_z0.80_m23.84_40hrs.dat\n",
      "Finished in 198.4 seconds\n",
      "Running the PFS ETC for COSMOS.10093 at z 0.80 with mag 23.98for 1 hrs, sedfile 3DHST/sedsim.output/wfirst_simsed.COSMOS.10093.dat.\n",
      " output: etcout/subaruPFS_SNR_COSMOS.10093_z0.80_m23.98_1hrs.dat\n",
      "Finished in 201.6 seconds\n",
      "Running the PFS ETC for COSMOS.10093 at z 0.80 with mag 23.98for 5 hrs, sedfile 3DHST/sedsim.output/wfirst_simsed.COSMOS.10093.dat.\n",
      " output: etcout/subaruPFS_SNR_COSMOS.10093_z0.80_m23.98_5hrs.dat\n",
      "Finished in 197.8 seconds\n",
      "Running the PFS ETC for COSMOS.10093 at z 0.80 with mag 23.98for 10 hrs, sedfile 3DHST/sedsim.output/wfirst_simsed.COSMOS.10093.dat.\n",
      " output: etcout/subaruPFS_SNR_COSMOS.10093_z0.80_m23.98_10hrs.dat\n",
      "Finished in 197.7 seconds\n",
      "Running the PFS ETC for COSMOS.10093 at z 0.80 with mag 23.98for 40 hrs, sedfile 3DHST/sedsim.output/wfirst_simsed.COSMOS.10093.dat.\n",
      " output: etcout/subaruPFS_SNR_COSMOS.10093_z0.80_m23.98_40hrs.dat\n",
      "Finished in 204.4 seconds\n",
      "Running the PFS ETC for GOODS-N.18285 at z 1.20 with mag 23.83for 1 hrs, sedfile 3DHST/sedsim.output/wfirst_simsed.GOODS-N.18285.dat.\n",
      " output: etcout/subaruPFS_SNR_GOODS-N.18285_z1.20_m23.83_1hrs.dat\n",
      "Finished in 198.5 seconds\n",
      "Running the PFS ETC for GOODS-N.18285 at z 1.20 with mag 23.83for 5 hrs, sedfile 3DHST/sedsim.output/wfirst_simsed.GOODS-N.18285.dat.\n",
      " output: etcout/subaruPFS_SNR_GOODS-N.18285_z1.20_m23.83_5hrs.dat\n",
      "Finished in 198.9 seconds\n",
      "Running the PFS ETC for GOODS-N.18285 at z 1.20 with mag 23.83for 10 hrs, sedfile 3DHST/sedsim.output/wfirst_simsed.GOODS-N.18285.dat.\n",
      " output: etcout/subaruPFS_SNR_GOODS-N.18285_z1.20_m23.83_10hrs.dat\n",
      "Finished in 199.9 seconds\n",
      "Running the PFS ETC for GOODS-N.18285 at z 1.20 with mag 23.83for 40 hrs, sedfile 3DHST/sedsim.output/wfirst_simsed.GOODS-N.18285.dat.\n",
      " output: etcout/subaruPFS_SNR_GOODS-N.18285_z1.20_m23.83_40hrs.dat\n",
      "Finished in 198.0 seconds\n",
      "Running the PFS ETC for GOODS-N.36862 at z 1.20 with mag 24.28for 1 hrs, sedfile 3DHST/sedsim.output/wfirst_simsed.GOODS-N.36862.dat.\n",
      " output: etcout/subaruPFS_SNR_GOODS-N.36862_z1.20_m24.28_1hrs.dat\n",
      "Finished in 198.3 seconds\n",
      "Running the PFS ETC for GOODS-N.36862 at z 1.20 with mag 24.28for 5 hrs, sedfile 3DHST/sedsim.output/wfirst_simsed.GOODS-N.36862.dat.\n",
      " output: etcout/subaruPFS_SNR_GOODS-N.36862_z1.20_m24.28_5hrs.dat\n",
      "Finished in 199.1 seconds\n",
      "Running the PFS ETC for GOODS-N.36862 at z 1.20 with mag 24.28for 10 hrs, sedfile 3DHST/sedsim.output/wfirst_simsed.GOODS-N.36862.dat.\n",
      " output: etcout/subaruPFS_SNR_GOODS-N.36862_z1.20_m24.28_10hrs.dat\n",
      "Finished in 197.1 seconds\n",
      "Running the PFS ETC for GOODS-N.36862 at z 1.20 with mag 24.28for 40 hrs, sedfile 3DHST/sedsim.output/wfirst_simsed.GOODS-N.36862.dat.\n",
      " output: etcout/subaruPFS_SNR_GOODS-N.36862_z1.20_m24.28_40hrs.dat\n",
      "Finished in 198.6 seconds\n",
      "Running the PFS ETC for COSMOS.4584 at z 1.20 with mag 24.56for 1 hrs, sedfile 3DHST/sedsim.output/wfirst_simsed.COSMOS.4584.dat.\n",
      " output: etcout/subaruPFS_SNR_COSMOS.4584_z1.20_m24.56_1hrs.dat\n",
      "Finished in 202.5 seconds\n",
      "Running the PFS ETC for COSMOS.4584 at z 1.20 with mag 24.56for 5 hrs, sedfile 3DHST/sedsim.output/wfirst_simsed.COSMOS.4584.dat.\n",
      " output: etcout/subaruPFS_SNR_COSMOS.4584_z1.20_m24.56_5hrs.dat\n",
      "Finished in 198.6 seconds\n",
      "Running the PFS ETC for COSMOS.4584 at z 1.20 with mag 24.56for 10 hrs, sedfile 3DHST/sedsim.output/wfirst_simsed.COSMOS.4584.dat.\n",
      " output: etcout/subaruPFS_SNR_COSMOS.4584_z1.20_m24.56_10hrs.dat\n",
      "Finished in 198.5 seconds\n",
      "Running the PFS ETC for COSMOS.4584 at z 1.20 with mag 24.56for 40 hrs, sedfile 3DHST/sedsim.output/wfirst_simsed.COSMOS.4584.dat.\n",
      " output: etcout/subaruPFS_SNR_COSMOS.4584_z1.20_m24.56_40hrs.dat\n",
      "Finished in 198.8 seconds\n",
      "Running the PFS ETC for COSMOS.7627 at z 1.50 with mag 24.14for 1 hrs, sedfile 3DHST/sedsim.output/wfirst_simsed.COSMOS.7627.dat.\n",
      " output: etcout/subaruPFS_SNR_COSMOS.7627_z1.50_m24.14_1hrs.dat\n",
      "Finished in 198.5 seconds\n",
      "Running the PFS ETC for COSMOS.7627 at z 1.50 with mag 24.14for 5 hrs, sedfile 3DHST/sedsim.output/wfirst_simsed.COSMOS.7627.dat.\n",
      " output: etcout/subaruPFS_SNR_COSMOS.7627_z1.50_m24.14_5hrs.dat\n",
      "Finished in 199.0 seconds\n",
      "Running the PFS ETC for COSMOS.7627 at z 1.50 with mag 24.14for 10 hrs, sedfile 3DHST/sedsim.output/wfirst_simsed.COSMOS.7627.dat.\n",
      " output: etcout/subaruPFS_SNR_COSMOS.7627_z1.50_m24.14_10hrs.dat\n",
      "Finished in 199.7 seconds\n",
      "Running the PFS ETC for COSMOS.7627 at z 1.50 with mag 24.14for 40 hrs, sedfile 3DHST/sedsim.output/wfirst_simsed.COSMOS.7627.dat.\n",
      " output: etcout/subaruPFS_SNR_COSMOS.7627_z1.50_m24.14_40hrs.dat\n",
      "Finished in 198.5 seconds\n",
      "Running the PFS ETC for COSMOS.5704 at z 1.50 with mag 24.81for 1 hrs, sedfile 3DHST/sedsim.output/wfirst_simsed.COSMOS.5704.dat.\n",
      " output: etcout/subaruPFS_SNR_COSMOS.5704_z1.50_m24.81_1hrs.dat\n",
      "Finished in 198.7 seconds\n",
      "Running the PFS ETC for COSMOS.5704 at z 1.50 with mag 24.81for 5 hrs, sedfile 3DHST/sedsim.output/wfirst_simsed.COSMOS.5704.dat.\n",
      " output: etcout/subaruPFS_SNR_COSMOS.5704_z1.50_m24.81_5hrs.dat\n",
      "Finished in 202.2 seconds\n",
      "Running the PFS ETC for COSMOS.5704 at z 1.50 with mag 24.81for 10 hrs, sedfile 3DHST/sedsim.output/wfirst_simsed.COSMOS.5704.dat.\n",
      " output: etcout/subaruPFS_SNR_COSMOS.5704_z1.50_m24.81_10hrs.dat\n",
      "Finished in 198.5 seconds\n",
      "Running the PFS ETC for COSMOS.5704 at z 1.50 with mag 24.81for 40 hrs, sedfile 3DHST/sedsim.output/wfirst_simsed.COSMOS.5704.dat.\n",
      " output: etcout/subaruPFS_SNR_COSMOS.5704_z1.50_m24.81_40hrs.dat\n",
      "Finished in 198.8 seconds\n",
      "Running the PFS ETC for GOODS-N.18560 at z 1.50 with mag 25.08for 1 hrs, sedfile 3DHST/sedsim.output/wfirst_simsed.GOODS-N.18560.dat.\n",
      " output: etcout/subaruPFS_SNR_GOODS-N.18560_z1.50_m25.08_1hrs.dat\n",
      "Finished in 198.2 seconds\n",
      "Running the PFS ETC for GOODS-N.18560 at z 1.50 with mag 25.08for 5 hrs, sedfile 3DHST/sedsim.output/wfirst_simsed.GOODS-N.18560.dat.\n",
      " output: etcout/subaruPFS_SNR_GOODS-N.18560_z1.50_m25.08_5hrs.dat\n",
      "Finished in 197.8 seconds\n",
      "Running the PFS ETC for GOODS-N.18560 at z 1.50 with mag 25.08for 10 hrs, sedfile 3DHST/sedsim.output/wfirst_simsed.GOODS-N.18560.dat.\n",
      " output: etcout/subaruPFS_SNR_GOODS-N.18560_z1.50_m25.08_10hrs.dat\n",
      "Finished in 198.3 seconds\n",
      "Running the PFS ETC for GOODS-N.18560 at z 1.50 with mag 25.08for 40 hrs, sedfile 3DHST/sedsim.output/wfirst_simsed.GOODS-N.18560.dat.\n",
      " output: etcout/subaruPFS_SNR_GOODS-N.18560_z1.50_m25.08_40hrs.dat\n",
      "Finished in 197.0 seconds\n",
      "Running the PFS ETC for AEGIS.15687 at z 1.80 with mag 24.50for 1 hrs, sedfile 3DHST/sedsim.output/wfirst_simsed.AEGIS.15687.dat.\n",
      " output: etcout/subaruPFS_SNR_AEGIS.15687_z1.80_m24.50_1hrs.dat\n",
      "Finished in 203.2 seconds\n",
      "Running the PFS ETC for AEGIS.15687 at z 1.80 with mag 24.50for 5 hrs, sedfile 3DHST/sedsim.output/wfirst_simsed.AEGIS.15687.dat.\n",
      " output: etcout/subaruPFS_SNR_AEGIS.15687_z1.80_m24.50_5hrs.dat\n",
      "Finished in 198.1 seconds\n",
      "Running the PFS ETC for AEGIS.15687 at z 1.80 with mag 24.50for 10 hrs, sedfile 3DHST/sedsim.output/wfirst_simsed.AEGIS.15687.dat.\n",
      " output: etcout/subaruPFS_SNR_AEGIS.15687_z1.80_m24.50_10hrs.dat\n",
      "Finished in 202.2 seconds\n",
      "Running the PFS ETC for AEGIS.15687 at z 1.80 with mag 24.50for 40 hrs, sedfile 3DHST/sedsim.output/wfirst_simsed.AEGIS.15687.dat.\n",
      " output: etcout/subaruPFS_SNR_AEGIS.15687_z1.80_m24.50_40hrs.dat\n",
      "Finished in 204.3 seconds\n",
      "Running the PFS ETC for AEGIS.4546 at z 1.80 with mag 25.15for 1 hrs, sedfile 3DHST/sedsim.output/wfirst_simsed.AEGIS.4546.dat.\n",
      " output: etcout/subaruPFS_SNR_AEGIS.4546_z1.80_m25.15_1hrs.dat\n",
      "Finished in 197.4 seconds\n",
      "Running the PFS ETC for AEGIS.4546 at z 1.80 with mag 25.15for 5 hrs, sedfile 3DHST/sedsim.output/wfirst_simsed.AEGIS.4546.dat.\n",
      " output: etcout/subaruPFS_SNR_AEGIS.4546_z1.80_m25.15_5hrs.dat\n",
      "Finished in 196.3 seconds\n",
      "Running the PFS ETC for AEGIS.4546 at z 1.80 with mag 25.15for 10 hrs, sedfile 3DHST/sedsim.output/wfirst_simsed.AEGIS.4546.dat.\n",
      " output: etcout/subaruPFS_SNR_AEGIS.4546_z1.80_m25.15_10hrs.dat\n",
      "Finished in 200.7 seconds\n",
      "Running the PFS ETC for AEGIS.4546 at z 1.80 with mag 25.15for 40 hrs, sedfile 3DHST/sedsim.output/wfirst_simsed.AEGIS.4546.dat.\n",
      " output: etcout/subaruPFS_SNR_AEGIS.4546_z1.80_m25.15_40hrs.dat\n",
      "Finished in 198.0 seconds\n",
      "Running the PFS ETC for GOODS-N.29575 at z 1.80 with mag 25.44for 1 hrs, sedfile 3DHST/sedsim.output/wfirst_simsed.GOODS-N.29575.dat.\n",
      " output: etcout/subaruPFS_SNR_GOODS-N.29575_z1.80_m25.44_1hrs.dat\n",
      "Finished in 197.9 seconds\n",
      "Running the PFS ETC for GOODS-N.29575 at z 1.80 with mag 25.44for 5 hrs, sedfile 3DHST/sedsim.output/wfirst_simsed.GOODS-N.29575.dat.\n",
      " output: etcout/subaruPFS_SNR_GOODS-N.29575_z1.80_m25.44_5hrs.dat\n",
      "Finished in 200.5 seconds\n",
      "Running the PFS ETC for GOODS-N.29575 at z 1.80 with mag 25.44for 10 hrs, sedfile 3DHST/sedsim.output/wfirst_simsed.GOODS-N.29575.dat.\n",
      " output: etcout/subaruPFS_SNR_GOODS-N.29575_z1.80_m25.44_10hrs.dat\n",
      "Finished in 197.7 seconds\n",
      "Running the PFS ETC for GOODS-N.29575 at z 1.80 with mag 25.44for 40 hrs, sedfile 3DHST/sedsim.output/wfirst_simsed.GOODS-N.29575.dat.\n",
      " output: etcout/subaruPFS_SNR_GOODS-N.29575_z1.80_m25.44_40hrs.dat\n",
      "Finished in 202.1 seconds\n",
      "Running the PFS ETC for COSMOS.19952 at z 2.19 with mag 24.23for 1 hrs, sedfile 3DHST/sedsim.output/wfirst_simsed.COSMOS.19952.dat.\n",
      " output: etcout/subaruPFS_SNR_COSMOS.19952_z2.19_m24.23_1hrs.dat\n",
      "Finished in 199.8 seconds\n",
      "Running the PFS ETC for COSMOS.19952 at z 2.19 with mag 24.23for 5 hrs, sedfile 3DHST/sedsim.output/wfirst_simsed.COSMOS.19952.dat.\n",
      " output: etcout/subaruPFS_SNR_COSMOS.19952_z2.19_m24.23_5hrs.dat\n",
      "Finished in 198.8 seconds\n",
      "Running the PFS ETC for COSMOS.19952 at z 2.19 with mag 24.23for 10 hrs, sedfile 3DHST/sedsim.output/wfirst_simsed.COSMOS.19952.dat.\n",
      " output: etcout/subaruPFS_SNR_COSMOS.19952_z2.19_m24.23_10hrs.dat\n",
      "Finished in 197.6 seconds\n",
      "Running the PFS ETC for COSMOS.19952 at z 2.19 with mag 24.23for 40 hrs, sedfile 3DHST/sedsim.output/wfirst_simsed.COSMOS.19952.dat.\n",
      " output: etcout/subaruPFS_SNR_COSMOS.19952_z2.19_m24.23_40hrs.dat\n",
      "Finished in 199.0 seconds\n",
      "Running the PFS ETC for COSMOS.5332 at z 2.19 with mag 24.62for 1 hrs, sedfile 3DHST/sedsim.output/wfirst_simsed.COSMOS.5332.dat.\n",
      " output: etcout/subaruPFS_SNR_COSMOS.5332_z2.19_m24.62_1hrs.dat\n",
      "Finished in 199.6 seconds\n",
      "Running the PFS ETC for COSMOS.5332 at z 2.19 with mag 24.62for 5 hrs, sedfile 3DHST/sedsim.output/wfirst_simsed.COSMOS.5332.dat.\n",
      " output: etcout/subaruPFS_SNR_COSMOS.5332_z2.19_m24.62_5hrs.dat\n",
      "Finished in 197.3 seconds\n",
      "Running the PFS ETC for COSMOS.5332 at z 2.19 with mag 24.62for 10 hrs, sedfile 3DHST/sedsim.output/wfirst_simsed.COSMOS.5332.dat.\n",
      " output: etcout/subaruPFS_SNR_COSMOS.5332_z2.19_m24.62_10hrs.dat\n",
      "Finished in 202.5 seconds\n",
      "Running the PFS ETC for COSMOS.5332 at z 2.19 with mag 24.62for 40 hrs, sedfile 3DHST/sedsim.output/wfirst_simsed.COSMOS.5332.dat.\n",
      " output: etcout/subaruPFS_SNR_COSMOS.5332_z2.19_m24.62_40hrs.dat\n",
      "Finished in 197.9 seconds\n",
      "Running the PFS ETC for GOODS-S.34374 at z 2.19 with mag 25.21for 1 hrs, sedfile 3DHST/sedsim.output/wfirst_simsed.GOODS-S.34374.dat.\n",
      " output: etcout/subaruPFS_SNR_GOODS-S.34374_z2.19_m25.21_1hrs.dat\n",
      "Finished in 202.2 seconds\n",
      "Running the PFS ETC for GOODS-S.34374 at z 2.19 with mag 25.21for 5 hrs, sedfile 3DHST/sedsim.output/wfirst_simsed.GOODS-S.34374.dat.\n",
      " output: etcout/subaruPFS_SNR_GOODS-S.34374_z2.19_m25.21_5hrs.dat\n",
      "Finished in 199.2 seconds\n",
      "Running the PFS ETC for GOODS-S.34374 at z 2.19 with mag 25.21for 10 hrs, sedfile 3DHST/sedsim.output/wfirst_simsed.GOODS-S.34374.dat.\n",
      " output: etcout/subaruPFS_SNR_GOODS-S.34374_z2.19_m25.21_10hrs.dat\n",
      "Finished in 199.0 seconds\n",
      "Running the PFS ETC for GOODS-S.34374 at z 2.19 with mag 25.21for 40 hrs, sedfile 3DHST/sedsim.output/wfirst_simsed.GOODS-S.34374.dat.\n",
      " output: etcout/subaruPFS_SNR_GOODS-S.34374_z2.19_m25.21_40hrs.dat\n",
      "Finished in 197.4 seconds\n"
     ]
    }
   ],
   "source": [
    "reload(snhostspec)\n",
    "sim.simulate_subaru_snr_curves(indexlist)"
   ]
  },
  {
   "cell_type": "code",
   "execution_count": null,
   "metadata": {
    "collapsed": true
   },
   "outputs": [],
   "source": [
    "# BELOW : OLD STUFF needs to be moved or removed."
   ]
  },
  {
   "cell_type": "code",
   "execution_count": null,
   "metadata": {
    "collapsed": false
   },
   "outputs": [],
   "source": [
    "fig = plt.figure(figsize=[13,3])\n",
    "for et, iax  in zip([1, 5, 10,40], [1,2,3,4]):\n",
    "    ax = fig.add_subplot(1,4,iax)\n",
    "    ietwin = np.where((zcheck['exptime']==et) & (zcheck['gotz']>0))[0]\n",
    "    ietfail = np.where((zcheck['exptime']==et) & (zcheck['gotz']<1))[0]\n",
    "    ax.plot(zcheck['z'][ietwin], zcheck['mag'][ietwin], 'ro', ls=' ')\n",
    "    ax.plot(zcheck['z'][ietfail], zcheck['mag'][ietfail], 'ks', ls=' ')\n",
    "ax1 = fig.add_subplot(1,3,1)\n",
    "ax2 = fig.add_subplot(1,3,2)\n",
    "ax3 = fig.add_subplot(1,3,3)\n",
    "ax1.invert_yaxis()\n",
    "ax2.invert_yaxis()\n",
    "ax3.invert_yaxis()\n",
    "ax1.set_title('1hr')\n",
    "ax2.set_title('5hr')\n",
    "ax3.set_title('10hr')\n",
    "ax1.set_ylabel('host gal H band mag')\n",
    "ax2.set_xlabel('redshift')"
   ]
  },
  {
   "cell_type": "code",
   "execution_count": null,
   "metadata": {
    "collapsed": true
   },
   "outputs": [],
   "source": [
    "mastercat = wfirst.WfirstMasterHostCatalog()\n",
    "mastercat.load_all_simdata()\n",
    "mastercat.write('wfirst_snhostspec_master.cat')"
   ]
  },
  {
   "cell_type": "code",
   "execution_count": null,
   "metadata": {
    "collapsed": false
   },
   "outputs": [],
   "source": [
    "mastercat2 = wfirst.WfirstMasterHostCatalog()\n",
    "mastercat2.read('wfirst_snhostspec_master.cat')"
   ]
  },
  {
   "cell_type": "code",
   "execution_count": null,
   "metadata": {
    "collapsed": false
   },
   "outputs": [],
   "source": [
    "mastercat2.mastercat = ascii.read('wfirst_snhostspec_master.cat', format='commented_header')"
   ]
  },
  {
   "cell_type": "code",
   "execution_count": null,
   "metadata": {
    "collapsed": false
   },
   "outputs": [],
   "source": [
    "mastercat2.simulate_all_seds()"
   ]
  },
  {
   "cell_type": "code",
   "execution_count": null,
   "metadata": {
    "collapsed": false
   },
   "outputs": [],
   "source": [
    "reload(wfirst)\n",
    "sim = wfirst.WfirstSimData('SNANA.SIM.OUTPUT/IMG_2T_4FILT_MD_SLT3_Z08_Ia-01_HEAD.FITS')\n",
    "sim.load_matchdata('3DHST/3dhst_master.phot.v4.1.cat.FITS')\n",
    "sim.get_matchlists()\n",
    "sim.simdata.write(\"wfirst_snhostgal_sim.dat\", format='ascii.commented_header')"
   ]
  },
  {
   "cell_type": "markdown",
   "metadata": {},
   "source": [
    "Read in the simulated SN data from the SNANA sim data files.\n",
    "Each SNANA simulation has generated a HEAD.FITS file that contains a binary table with metadata for each simulated SN and host galaxy.  The high-z host galaxy magnitudes have been drawn from distributions that match the CANDELS+CLASH sample -- so there is some selection bias built in, but it will be similar to the selection biases of the WFIRST SN survey (?). "
   ]
  },
  {
   "cell_type": "code",
   "execution_count": null,
   "metadata": {
    "collapsed": false
   },
   "outputs": [],
   "source": [
    "reload(wfirst)"
   ]
  },
  {
   "cell_type": "code",
   "execution_count": null,
   "metadata": {
    "collapsed": false
   },
   "outputs": [],
   "source": [
    "%pwd"
   ]
  },
  {
   "cell_type": "code",
   "execution_count": null,
   "metadata": {
    "collapsed": false
   },
   "outputs": [],
   "source": [
    "sim.snanadata.read?"
   ]
  },
  {
   "cell_type": "code",
   "execution_count": null,
   "metadata": {
    "collapsed": false
   },
   "outputs": [],
   "source": [
    "simlist = []\n",
    "simfilelist_med = glob('SNANA.SIM.OUTPUT/*Z08*HEAD.FITS')\n",
    "simfilelist_deep = glob('SNANA.SIM.OUTPUT/*Z17*HEAD.FITS')\n",
    "hostz_med, hostmag_med = np.array([]), np.array([])\n",
    "for simfile in simfilelist_med:\n",
    "    sim = wfirst.WfirstSimData(simfile)\n",
    "    sim.load_matchdata('3DHST/3dhst_master.phot.v4.1.cat.FITS')\n",
    "    sim.get_matchlists()\n",
    "    hostz_med = np.append(hostz_med, sim.zsim)\n",
    "    hostmag_med = np.append(hostmag_med, sim.mag)\n",
    "    simlist.append(sim)\n",
    "\n",
    "hostz_deep, hostmag_deep = np.array([]), np.array([])\n",
    "for simfile in simfilelist_deep:\n",
    "    sim = wfirst.WfirstSimData(simfile)\n",
    "    sim.load_matchdata('3DHST/3dhst_master.phot.v4.1.cat.FITS')\n",
    "    sim.get_matchlists()\n",
    "    hostz_deep = np.append(hostz_deep, sim.zsim)\n",
    "    hostmag_deep = np.append(hostmag_deep, sim.mag)\n",
    "    simlist.append(sim)    "
   ]
  },
  {
   "cell_type": "markdown",
   "metadata": {},
   "source": [
    "Now for each SNANA sim file, load in the catalog of galaxy SED data from 3DHST and use EAZY to simulate an SED.  The output simulated SEDs are stored in the sub-directory '3dHST/sedsim.output'"
   ]
  },
  {
   "cell_type": "code",
   "execution_count": null,
   "metadata": {
    "collapsed": false
   },
   "outputs": [],
   "source": [
    "if not os.path.isdir('3DHST/sedsim.output'):\n",
    "    os.mkdir('3DHST/sedsim.output')\n",
    "for sim in simlist:\n",
    "    sim.load_sed_data()\n",
    "    sim.simulate_seds()"
   ]
  },
  {
   "cell_type": "markdown",
   "metadata": {},
   "source": [
    "TODO NEXT : run the Subaru ETC on each simulated galaxy spectrum and determine the S/N achieved after 1 hour 5 hour, 10 hour exposures"
   ]
  },
  {
   "cell_type": "code",
   "execution_count": null,
   "metadata": {
    "collapsed": false
   },
   "outputs": [],
   "source": [
    "# Example of a spectrum plot\n",
    "eazyspecsim = wfirst.EazySpecSim('3DHST/sedsim.output/wfirst_simsed.AEGIS.0185.dat')\n",
    "eazyspecsim.plot()"
   ]
  },
  {
   "cell_type": "code",
   "execution_count": null,
   "metadata": {
    "collapsed": false
   },
   "outputs": [],
   "source": [
    "photdat3d = fits.open('3DHST/3dhst_master.phot.v4.1/3dhst_master.phot.v4.1.cat.FITS')\n",
    "f160 = photdat3d[1].data['f_F160W']\n",
    "zspec = photdat3d[1].data['z_spec']\n",
    "zphot = photdat3d[1].data['z_peak']\n",
    "zbest = np.where(zspec>0, zspec, zphot)\n",
    "usephot = photdat3d[1].data['use_phot']\n",
    "\n",
    "ivalid = np.where(((f160>0) & (zbest>0)) & (usephot==1) )[0]\n",
    "mH3D = -2.5*np.log10(f160[ivalid])+25\n",
    "z3D = zbest[ivalid]\n",
    "plt.plot(z3D, mH3D, 'b.', ls=' ', ms=1, alpha=0.1)\n",
    "#plt.plot(hostz_med, hostmag_med, 'g.', ls=' ', ms=3, alpha=0.3)\n",
    "plt.plot(hostz_deep, hostmag_deep, 'r.', ls=' ', ms=3, alpha=0.3)\n",
    "ax = plt.gca()\n",
    "xlim = ax.set_xlim(0,2.5)\n",
    "ylim = ax.set_ylim(28,20)\n",
    "ax.set_xlabel('redshift')\n",
    "ax.set_ylabel('host galaxy AB magnitude')"
   ]
  }
 ],
 "metadata": {
  "kernelspec": {
   "display_name": "Python 2",
   "language": "python",
   "name": "python2"
  },
  "language_info": {
   "codemirror_mode": {
    "name": "ipython",
    "version": 2
   },
   "file_extension": ".py",
   "mimetype": "text/x-python",
   "name": "python",
   "nbconvert_exporter": "python",
   "pygments_lexer": "ipython2",
   "version": "2.7.12"
  }
 },
 "nbformat": 4,
 "nbformat_minor": 1
}

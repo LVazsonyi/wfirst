{
 "cells": [
  {
   "cell_type": "code",
   "execution_count": 2,
   "metadata": {
    "collapsed": false
   },
   "outputs": [],
   "source": [
    "%matplotlib inline"
   ]
  },
  {
   "cell_type": "code",
   "execution_count": 3,
   "metadata": {
    "collapsed": true
   },
   "outputs": [],
   "source": [
    "import numpy as np\n",
    "from astropy.io import fits\n",
    "from astropy.table import Table\n",
    "from matplotlib import pyplot as plt\n",
    "import snhostspec\n",
    "from glob import glob"
   ]
  },
  {
   "cell_type": "markdown",
   "metadata": {},
   "source": [
    "Load the catalog produced in part I and updated in part II"
   ]
  },
  {
   "cell_type": "code",
   "execution_count": 4,
   "metadata": {
    "collapsed": false
   },
   "outputs": [
    {
     "name": "stdout",
     "output_type": "stream",
     "text": [
      "Initiliazed an empty WfirstSimData object\n"
     ]
    }
   ],
   "source": [
    "reload(snhostspec)\n",
    "sim1 = snhostspec.SnanaSimData()\n",
    "sim1.load_simdata_catalog('wfirst_snhostspec1.cat')"
   ]
  },
  {
   "cell_type": "markdown",
   "metadata": {},
   "source": [
    "Read in all the Subaru PFS S/N spectra, and evaluate whether we get a redshift.  Store the outputs in a simple ascii table."
   ]
  },
  {
   "cell_type": "code",
   "execution_count": 5,
   "metadata": {
    "collapsed": false
   },
   "outputs": [
    {
     "ename": "ValueError",
     "evalue": "zero-size array to reduction operation maximum which has no identity",
     "output_type": "error",
     "traceback": [
      "\u001b[0;31m---------------------------------------------------------------------------\u001b[0m",
      "\u001b[0;31mValueError\u001b[0m                                Traceback (most recent call last)",
      "\u001b[0;32m<ipython-input-5-371c8560ef29>\u001b[0m in \u001b[0;36m<module>\u001b[0;34m()\u001b[0m\n\u001b[1;32m     16\u001b[0m         etcout = snhostspec.SubaruObsSim(\n\u001b[1;32m     17\u001b[0m             etcoutfile, hostgal['zmatch'], hostgal['magmatch'], et, verbose=0)\n\u001b[0;32m---> 18\u001b[0;31m         \u001b[0metcout\u001b[0m\u001b[0;34m.\u001b[0m\u001b[0mcheck_redshift\u001b[0m\u001b[0;34m(\u001b[0m\u001b[0msnrthresh\u001b[0m\u001b[0;34m=\u001b[0m\u001b[0;36m4\u001b[0m\u001b[0;34m,\u001b[0m \u001b[0mshowplot\u001b[0m\u001b[0;34m=\u001b[0m\u001b[0mFalse\u001b[0m\u001b[0;34m)\u001b[0m\u001b[0;34m\u001b[0m\u001b[0m\n\u001b[0m\u001b[1;32m     19\u001b[0m         \u001b[0;32mif\u001b[0m \u001b[0metcout\u001b[0m\u001b[0;34m.\u001b[0m\u001b[0mredshift_detected\u001b[0m\u001b[0;34m:\u001b[0m\u001b[0;34m\u001b[0m\u001b[0m\n\u001b[1;32m     20\u001b[0m             \u001b[0metcoutstr\u001b[0m \u001b[0;34m+=\u001b[0m \u001b[0;34m'   1'\u001b[0m\u001b[0;34m\u001b[0m\u001b[0m\n",
      "\u001b[0;32m/Users/rodney/Dropbox/src/wfirst/snhostspec.pyc\u001b[0m in \u001b[0;36mcheck_redshift\u001b[0;34m(self, snrthresh, showplot, **kwargs)\u001b[0m\n\u001b[1;32m    439\u001b[0m                 \u001b[0mself\u001b[0m\u001b[0;34m.\u001b[0m\u001b[0mredshift_detected\u001b[0m \u001b[0;34m=\u001b[0m \u001b[0;36m1\u001b[0m\u001b[0;34m\u001b[0m\u001b[0m\n\u001b[1;32m    440\u001b[0m             \u001b[0;32mif\u001b[0m \u001b[0msnrbinmax\u001b[0m \u001b[0;34m>\u001b[0m \u001b[0mself\u001b[0m\u001b[0;34m.\u001b[0m\u001b[0mbestsnr\u001b[0m\u001b[0;34m:\u001b[0m\u001b[0;34m\u001b[0m\u001b[0m\n\u001b[0;32m--> 441\u001b[0;31m                 \u001b[0mself\u001b[0m\u001b[0;34m.\u001b[0m\u001b[0mbestsnr\u001b[0m \u001b[0;34m=\u001b[0m \u001b[0msnrbinmax\u001b[0m\u001b[0;34m\u001b[0m\u001b[0m\n\u001b[0m\u001b[1;32m    442\u001b[0m                 \u001b[0mself\u001b[0m\u001b[0;34m.\u001b[0m\u001b[0mbestsnr_waverest\u001b[0m \u001b[0;34m=\u001b[0m \u001b[0msnrbinmaxwaverest\u001b[0m\u001b[0;34m\u001b[0m\u001b[0m\n\u001b[1;32m    443\u001b[0m                 \u001b[0mself\u001b[0m\u001b[0;34m.\u001b[0m\u001b[0mbestbinsize\u001b[0m \u001b[0;34m=\u001b[0m \u001b[0mbinsize\u001b[0m\u001b[0;34m\u001b[0m\u001b[0m\n",
      "\u001b[0;32m/usr/local/anaconda2/envs/astro2/lib/python2.7/site-packages/numpy/core/fromnumeric.pyc\u001b[0m in \u001b[0;36mamax\u001b[0;34m(a, axis, out, keepdims)\u001b[0m\n\u001b[1;32m   2295\u001b[0m     \u001b[0;32melse\u001b[0m\u001b[0;34m:\u001b[0m\u001b[0;34m\u001b[0m\u001b[0m\n\u001b[1;32m   2296\u001b[0m         return _methods._amax(a, axis=axis,\n\u001b[0;32m-> 2297\u001b[0;31m                             out=out, **kwargs)\n\u001b[0m\u001b[1;32m   2298\u001b[0m \u001b[0;34m\u001b[0m\u001b[0m\n\u001b[1;32m   2299\u001b[0m \u001b[0;34m\u001b[0m\u001b[0m\n",
      "\u001b[0;32m/usr/local/anaconda2/envs/astro2/lib/python2.7/site-packages/numpy/core/_methods.pyc\u001b[0m in \u001b[0;36m_amax\u001b[0;34m(a, axis, out, keepdims)\u001b[0m\n\u001b[1;32m     24\u001b[0m \u001b[0;31m# small reductions\u001b[0m\u001b[0;34m\u001b[0m\u001b[0;34m\u001b[0m\u001b[0m\n\u001b[1;32m     25\u001b[0m \u001b[0;32mdef\u001b[0m \u001b[0m_amax\u001b[0m\u001b[0;34m(\u001b[0m\u001b[0ma\u001b[0m\u001b[0;34m,\u001b[0m \u001b[0maxis\u001b[0m\u001b[0;34m=\u001b[0m\u001b[0mNone\u001b[0m\u001b[0;34m,\u001b[0m \u001b[0mout\u001b[0m\u001b[0;34m=\u001b[0m\u001b[0mNone\u001b[0m\u001b[0;34m,\u001b[0m \u001b[0mkeepdims\u001b[0m\u001b[0;34m=\u001b[0m\u001b[0mFalse\u001b[0m\u001b[0;34m)\u001b[0m\u001b[0;34m:\u001b[0m\u001b[0;34m\u001b[0m\u001b[0m\n\u001b[0;32m---> 26\u001b[0;31m     \u001b[0;32mreturn\u001b[0m \u001b[0mumr_maximum\u001b[0m\u001b[0;34m(\u001b[0m\u001b[0ma\u001b[0m\u001b[0;34m,\u001b[0m \u001b[0maxis\u001b[0m\u001b[0;34m,\u001b[0m \u001b[0mNone\u001b[0m\u001b[0;34m,\u001b[0m \u001b[0mout\u001b[0m\u001b[0;34m,\u001b[0m \u001b[0mkeepdims\u001b[0m\u001b[0;34m)\u001b[0m\u001b[0;34m\u001b[0m\u001b[0m\n\u001b[0m\u001b[1;32m     27\u001b[0m \u001b[0;34m\u001b[0m\u001b[0m\n\u001b[1;32m     28\u001b[0m \u001b[0;32mdef\u001b[0m \u001b[0m_amin\u001b[0m\u001b[0;34m(\u001b[0m\u001b[0ma\u001b[0m\u001b[0;34m,\u001b[0m \u001b[0maxis\u001b[0m\u001b[0;34m=\u001b[0m\u001b[0mNone\u001b[0m\u001b[0;34m,\u001b[0m \u001b[0mout\u001b[0m\u001b[0;34m=\u001b[0m\u001b[0mNone\u001b[0m\u001b[0;34m,\u001b[0m \u001b[0mkeepdims\u001b[0m\u001b[0;34m=\u001b[0m\u001b[0mFalse\u001b[0m\u001b[0;34m)\u001b[0m\u001b[0;34m:\u001b[0m\u001b[0;34m\u001b[0m\u001b[0m\n",
      "\u001b[0;31mValueError\u001b[0m: zero-size array to reduction operation maximum which has no identity"
     ]
    }
   ],
   "source": [
    "reload(snhostspec)\n",
    "zcheck = []\n",
    "etcoutlist=[]\n",
    "fout = open(\"/Users/rodney/Dropbox/src/wfirst/wfirst_snhostspec3.cat\", 'a')\n",
    "fout.write(\n",
    "    \"# index zsim magsim zmatch magmatch 1hr 5hr 10hr 40hr SNRbest SNRwave SNRbin\\n\")\n",
    "for index in sim1.simdata['index']:\n",
    "    fout = open(\"/Users/rodney/Dropbox/src/wfirst/wfirst_snhostspec3.cat\", 'a')\n",
    "    hostgal = sim1.simdata[index]\n",
    "    etcoutstr = ''\n",
    "    for et in [1,5,10,40]:\n",
    "        etcoutfile = 'etc.output/subaruPFS_SNR.{:d}hr.{:06d}.dat'.format(et, index)\n",
    "        if not os.path.isfile(etcoutfile):\n",
    "            etcoutstr += '  -1'\n",
    "            continue\n",
    "        etcout = snhostspec.SubaruObsSim(\n",
    "            etcoutfile, hostgal['zmatch'], hostgal['magmatch'], et, verbose=0)\n",
    "        etcout.check_redshift(snrthresh=4, showplot=False)\n",
    "        if etcout.redshift_detected:\n",
    "            etcoutstr += '   1'\n",
    "        else:\n",
    "            etcoutstr += '   0'                    \n",
    "    fout.write('{:6d} {:.2f} {:.2f} {:.2f} {:.2f} {:s} {:.2f} {:.1f} {:d}\\n'.format(\n",
    "               hostgal['index'], hostgal['zsim'], hostgal['magsim'], \n",
    "               hostgal['zmatch'], hostgal['magmatch'], \n",
    "               etcoutstr, etcout.bestsnr, etcout.bestsnr_waverest, \n",
    "               etcout.bestbinsize))\n",
    "    fout.close()"
   ]
  },
  {
   "cell_type": "code",
   "execution_count": null,
   "metadata": {
    "collapsed": false
   },
   "outputs": [],
   "source": [
    "len(zcheck)"
   ]
  },
  {
   "cell_type": "code",
   "execution_count": null,
   "metadata": {
    "collapsed": true
   },
   "outputs": [],
   "source": []
  },
  {
   "cell_type": "code",
   "execution_count": null,
   "metadata": {
    "collapsed": false
   },
   "outputs": [],
   "source": [
    "reload(snhostspec)\n",
    "snrspeclist = glob('etc.output/subaruPFS_SNR*dat')\n",
    "z = []\n",
    "mag = []\n",
    "gotz = []\n",
    "snrbest = []\n",
    "snrbest_waverest = []\n",
    "snrbest_binsize = []\n",
    "exptime = []\n",
    "for snrspecfile in snrspeclist:\n",
    "    snrspec = snhostspec.SubaruObsSim(snrspecfile)\n",
    "    snrspec.verbose=0\n",
    "    # snrspec.plot(marker=' ', frame='rest', showspec=True, ls='-', lw=0.7)\n",
    "    snrspec.check_redshift(snrthresh=4, showplot=False)\n",
    "    z.append(snrspec.z)\n",
    "    mag.append(snrspec.mag)\n",
    "    exptime.append(snrspec.exptime_hours)\n",
    "    gotz.append(snrspec.redshift_detected)\n",
    "    snrbest.append(snrspec.bestsnr)\n",
    "    snrbest_waverest.append(snrspec.bestsnr_waverest)\n",
    "    snrbest_binsize.append(snrspec.bestbinsize)\n",
    "snrchecktable = Table(data=[z, mag, exptime, gotz, snrbest, snrbest_waverest, snrbest_binsize], \n",
    "                     names=['z','mag','exptime','gotz','snrbest','snrbest_waverest', 'snrbest_binsize'])\n",
    "snrchecktable.write('wfirst_snhostspec_redshiftcheck.dat', format='ascii.commented_header')"
   ]
  },
  {
   "cell_type": "markdown",
   "metadata": {},
   "source": [
    "Make a plot showing the host spectra that get a redshift detection and those that don't, as a function of z."
   ]
  },
  {
   "cell_type": "code",
   "execution_count": null,
   "metadata": {
    "collapsed": false
   },
   "outputs": [],
   "source": [
    "zcheck = ascii.read('wfirst_snhostspec_redshiftcheck.dat', \n",
    "                    format='commented_header')\n",
    "fig = plt.figure(figsize=[13,3])\n",
    "ax1 = fig.add_subplot(1,4,1)\n",
    "ax2 = fig.add_subplot(1,4,2, sharex=ax1, sharey=ax1)\n",
    "ax3 = fig.add_subplot(1,4,3, sharex=ax1, sharey=ax1)\n",
    "ax4 = fig.add_subplot(1,4,4, sharex=ax1, sharey=ax1)\n",
    "for et, ax  in zip([1, 5, 10,40], [ax1,ax2,ax3,ax4]):\n",
    "    ietwin = np.where((zcheck['exptime']==et) & (zcheck['gotz']>0))[0]\n",
    "    ietfail = np.where((zcheck['exptime']==et) & (zcheck['gotz']<1))[0]\n",
    "    ax.plot(zcheck['z'][ietwin], zcheck['mag'][ietwin], 'ro', ls=' ', label='Got z')\n",
    "    ax.plot(zcheck['z'][ietfail], zcheck['mag'][ietfail], 'kx', ms=8, mew=0.8, ls=' ', label='No z')\n",
    "ax1.invert_yaxis()\n",
    "ax1.set_title('1hr')\n",
    "ax2.set_title('5hr')\n",
    "ax3.set_title('10hr')\n",
    "ax4.set_title('40hr')\n",
    "ax1.set_ylabel('host gal H band mag')\n",
    "ax2.set_xlabel('redshift')\n",
    "ax4.legend(loc='lower left', numpoints=1, handletextpad=0.1, frameon=False,\n",
    "           bbox_to_anchor=[1.0,1.0], bbox_transform=ax4.transAxes)\n",
    "ax1.text(0.85, 23.35, \"-m$>$50%\", ha='left', va='center')\n",
    "ax1.text(0.85, 23.85, \"-80%\", ha='left', va='center')\n",
    "ax1.text(0.85, 24.0, \"-95%\", ha='left', va='center')\n",
    "ax1.set_xlim(0.7,2.4)"
   ]
  },
  {
   "cell_type": "code",
   "execution_count": null,
   "metadata": {
    "collapsed": false
   },
   "outputs": [],
   "source": [
    "sim = snhostspec.SnanaSimData()\n",
    "sim.load_simdata_catalog('wfirst_snhostspec_master.cat')\n",
    "ax = pl.gca()\n",
    "x = sim.simdata['zsim']\n",
    "y = sim.simdata['magsim']\n",
    "hb = ax.hexbin(x, y, gridsize=50, bins='log', cmap='Blues')\n",
    "ax.invert_yaxis()\n",
    "ietwin = np.where((zcheck['exptime']==40) & (zcheck['gotz']>0))[0]\n",
    "ietfail = np.where((zcheck['exptime']==40) & (zcheck['gotz']<1))[0]\n",
    "ax.plot(zcheck['z'][ietwin], zcheck['mag'][ietwin], 'ro', ls=' ', label='Got z')\n",
    "ax.plot(zcheck['z'][ietfail], zcheck['mag'][ietfail], 'kx', ms=8, mew=0.8, ls=' ', label='No z')\n",
    "ax.set_xlabel('redshift')\n",
    "ax.set_ylabel('Host gal H band AB mag')\n"
   ]
  },
  {
   "cell_type": "code",
   "execution_count": null,
   "metadata": {
    "collapsed": true
   },
   "outputs": [],
   "source": []
  }
 ],
 "metadata": {
  "kernelspec": {
   "display_name": "Python 2",
   "language": "python",
   "name": "python2"
  },
  "language_info": {
   "codemirror_mode": {
    "name": "ipython",
    "version": 2
   },
   "file_extension": ".py",
   "mimetype": "text/x-python",
   "name": "python",
   "nbconvert_exporter": "python",
   "pygments_lexer": "ipython2",
   "version": "2.7.12"
  }
 },
 "nbformat": 4,
 "nbformat_minor": 1
}

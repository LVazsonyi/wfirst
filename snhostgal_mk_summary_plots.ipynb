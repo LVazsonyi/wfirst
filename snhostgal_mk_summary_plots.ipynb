{
 "cells": [
  {
   "cell_type": "markdown",
   "metadata": {},
   "source": [
    "Read in the output catalogs and make some summary plots showing the SNANA host galaxy sample"
   ]
  },
  {
   "cell_type": "code",
   "execution_count": 2,
   "metadata": {
    "collapsed": false
   },
   "outputs": [],
   "source": [
    "%matplotlib inline"
   ]
  },
  {
   "cell_type": "code",
   "execution_count": 3,
   "metadata": {
    "collapsed": true
   },
   "outputs": [],
   "source": [
    "import numpy as np\n",
    "from astropy.io import fits\n",
    "from astropy.table import Table\n",
    "from matplotlib import pyplot as plt\n",
    "import snhostspec\n",
    "from glob import glob"
   ]
  },
  {
   "cell_type": "code",
   "execution_count": null,
   "metadata": {
    "collapsed": true
   },
   "outputs": [],
   "source": [
    "# Host galaxy magnitude vs redshift compared to 3DHST\n",
    "photdat3d = fits.open('3DHST/3dhst_master.phot.v4.1/3dhst_master.phot.v4.1.cat.FITS')\n",
    "f160 = photdat3d[1].data['f_F160W']\n",
    "zspec = photdat3d[1].data['z_spec']\n",
    "zphot = photdat3d[1].data['z_peak']\n",
    "zbest = np.where(zspec>0, zspec, zphot)\n",
    "usephot = photdat3d[1].data['use_phot']\n",
    "\n",
    "ivalid = np.where(((f160>0) & (zbest>0)) & (usephot==1) )[0]\n",
    "mH3D = -2.5*np.log10(f160[ivalid])+25\n",
    "z3D = zbest[ivalid]\n",
    "plt.plot(z3D, mH3D, 'b.', ls=' ', ms=1, alpha=0.1)\n",
    "#plt.plot(hostz_med, hostmag_med, 'g.', ls=' ', ms=3, alpha=0.3)\n",
    "plt.plot(hostz_deep, hostmag_deep, 'r.', ls=' ', ms=3, alpha=0.3)\n",
    "ax = plt.gca()\n",
    "xlim = ax.set_xlim(0,2.5)\n",
    "ylim = ax.set_ylim(28,20)\n",
    "ax.set_xlabel('redshift')\n",
    "ax.set_ylabel('host galaxy AB magnitude')"
   ]
  },
  {
   "cell_type": "code",
   "execution_count": 4,
   "metadata": {
    "collapsed": false
   },
   "outputs": [
    {
     "ename": "ValueError",
     "evalue": "a must be non-empty",
     "output_type": "error",
     "traceback": [
      "\u001b[0;31m---------------------------------------------------------------------------\u001b[0m",
      "\u001b[0;31mValueError\u001b[0m                                Traceback (most recent call last)",
      "\u001b[0;32m<ipython-input-4-aa9278d42d58>\u001b[0m in \u001b[0;36m<module>\u001b[0;34m()\u001b[0m\n\u001b[1;32m      2\u001b[0m \u001b[0mreload\u001b[0m\u001b[0;34m(\u001b[0m\u001b[0msnhostspec\u001b[0m\u001b[0;34m)\u001b[0m\u001b[0;34m\u001b[0m\u001b[0m\n\u001b[1;32m      3\u001b[0m \u001b[0metcoutfilelist\u001b[0m \u001b[0;34m=\u001b[0m \u001b[0mglob\u001b[0m\u001b[0;34m(\u001b[0m\u001b[0;34m'etcout/subaruPFS*dat'\u001b[0m\u001b[0;34m)\u001b[0m\u001b[0;34m\u001b[0m\u001b[0m\n\u001b[0;32m----> 4\u001b[0;31m \u001b[0metcoutfile_random\u001b[0m \u001b[0;34m=\u001b[0m \u001b[0mnp\u001b[0m\u001b[0;34m.\u001b[0m\u001b[0mrandom\u001b[0m\u001b[0;34m.\u001b[0m\u001b[0mchoice\u001b[0m\u001b[0;34m(\u001b[0m\u001b[0metcoutfilelist\u001b[0m\u001b[0;34m)\u001b[0m\u001b[0;34m\u001b[0m\u001b[0m\n\u001b[0m\u001b[1;32m      5\u001b[0m \u001b[0msubarusim\u001b[0m \u001b[0;34m=\u001b[0m \u001b[0msnhostspec\u001b[0m\u001b[0;34m.\u001b[0m\u001b[0mSubaruObsSim\u001b[0m\u001b[0;34m(\u001b[0m\u001b[0metcoutfile_random\u001b[0m\u001b[0;34m)\u001b[0m\u001b[0;34m\u001b[0m\u001b[0m\n\u001b[1;32m      6\u001b[0m \u001b[0msubarusim\u001b[0m\u001b[0;34m.\u001b[0m\u001b[0mcheck_redshift\u001b[0m\u001b[0;34m(\u001b[0m\u001b[0msnrthresh\u001b[0m\u001b[0;34m=\u001b[0m\u001b[0;36m5\u001b[0m\u001b[0;34m,\u001b[0m \u001b[0mshowplot\u001b[0m\u001b[0;34m=\u001b[0m\u001b[0mFalse\u001b[0m\u001b[0;34m)\u001b[0m\u001b[0;34m\u001b[0m\u001b[0m\n",
      "\u001b[0;32mmtrand.pyx\u001b[0m in \u001b[0;36mmtrand.RandomState.choice (numpy/random/mtrand/mtrand.c:15477)\u001b[0;34m()\u001b[0m\n",
      "\u001b[0;31mValueError\u001b[0m: a must be non-empty"
     ]
    }
   ],
   "source": [
    "# Examples of some spectrum plots\n",
    "reload(snhostspec)\n",
    "etcoutfilelist = glob('etcout/subaruPFS*dat')\n",
    "etcoutfile_random = np.random.choice(etcoutfilelist)\n",
    "subarusim = snhostspec.SubaruObsSim(etcoutfile_random)\n",
    "subarusim.check_redshift(snrthresh=5, showplot=False)\n",
    "subarusim.load_specdata()\n",
    "subarusim.plot(showspec=True)"
   ]
  },
  {
   "cell_type": "code",
   "execution_count": 8,
   "metadata": {
    "collapsed": false
   },
   "outputs": [
    {
     "data": {
      "text/plain": [
       "0"
      ]
     },
     "execution_count": 8,
     "metadata": {},
     "output_type": "execute_result"
    }
   ],
   "source": [
    "subarusim.redshift_detected"
   ]
  },
  {
   "cell_type": "code",
   "execution_count": null,
   "metadata": {
    "collapsed": true
   },
   "outputs": [],
   "source": []
  }
 ],
 "metadata": {
  "kernelspec": {
   "display_name": "Python 2",
   "language": "python",
   "name": "python2"
  },
  "language_info": {
   "codemirror_mode": {
    "name": "ipython",
    "version": 2
   },
   "file_extension": ".py",
   "mimetype": "text/x-python",
   "name": "python",
   "nbconvert_exporter": "python",
   "pygments_lexer": "ipython2",
   "version": "2.7.12"
  }
 },
 "nbformat": 4,
 "nbformat_minor": 1
}

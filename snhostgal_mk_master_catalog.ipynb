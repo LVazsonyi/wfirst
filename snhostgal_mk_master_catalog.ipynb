{
 "cells": [
  {
   "cell_type": "markdown",
   "metadata": {},
   "source": [
    "Part I :\n",
    "\n",
    "(1) Read in host galaxy data from SNANA simulation outputs (from HEAD.FITS files)\n",
    "\n",
    "(2) For each simulated SN host galaxy, find a real galaxy in the 3DHST catalog that has a similar redshift and H band magnitude\n",
    "\n",
    "(3) Use the EAZY code to generate a simulated host galaxy spectrum (from the best-fitting photoz template), stored as ascii .dat files with wavelength in nm and AB mag (suitable input to the Subaru ETC).\n",
    "\n",
    "(4) Store the master catalog as a simple ascii file \"wfirst_snhostspec_master.cat\""
   ]
  },
  {
   "cell_type": "code",
   "execution_count": 1,
   "metadata": {
    "collapsed": false
   },
   "outputs": [],
   "source": [
    "%matplotlib inline"
   ]
  },
  {
   "cell_type": "code",
   "execution_count": 3,
   "metadata": {
    "collapsed": false
   },
   "outputs": [],
   "source": [
    "import numpy as np\n",
    "from astropy.io import fits\n",
    "from astropy.table import Table\n",
    "from matplotlib import pyplot as plt\n",
    "import snhostspec\n",
    "from glob import glob"
   ]
  },
  {
   "cell_type": "code",
   "execution_count": 4,
   "metadata": {
    "collapsed": false
   },
   "outputs": [
    {
     "name": "stdout",
     "output_type": "stream",
     "text": [
      "Initiliazed an empty WfirstSimData object\n",
      "Adding SNANA sim data from SNANA.SIM.OUTPUT/IMG_2T_4FILT_MD_SLT3_Z08_Ia-01_HEAD.FITS\n",
      "Adding SNANA sim data from SNANA.SIM.OUTPUT/IMG_2T_4FILT_MD_SLT3_Z08_Ia-02_HEAD.FITS\n",
      "Adding SNANA sim data from SNANA.SIM.OUTPUT/IMG_2T_4FILT_MD_SLT3_Z08_Ia-03_HEAD.FITS\n",
      "Adding SNANA sim data from SNANA.SIM.OUTPUT/IMG_2T_4FILT_MD_SLT3_Z08_Ia-04_HEAD.FITS\n",
      "Adding SNANA sim data from SNANA.SIM.OUTPUT/IMG_2T_4FILT_MD_SLT3_Z08_Ia-05_HEAD.FITS\n",
      "Adding SNANA sim data from SNANA.SIM.OUTPUT/IMG_2T_4FILT_MD_SLT3_Z08_Ia-06_HEAD.FITS\n",
      "Adding SNANA sim data from SNANA.SIM.OUTPUT/IMG_2T_4FILT_MD_SLT3_Z08_Ia-07_HEAD.FITS\n",
      "Adding SNANA sim data from SNANA.SIM.OUTPUT/IMG_2T_4FILT_MD_SLT3_Z08_Ia-08_HEAD.FITS\n",
      "Adding SNANA sim data from SNANA.SIM.OUTPUT/IMG_2T_4FILT_MD_SLT3_Z08_Ia-09_HEAD.FITS\n",
      "Adding SNANA sim data from SNANA.SIM.OUTPUT/IMG_2T_4FILT_MD_SLT3_Z08_Ia-10_HEAD.FITS\n",
      "Adding SNANA sim data from SNANA.SIM.OUTPUT/IMG_2T_4FILT_MD_SLT3_Z17_Ia-01_HEAD.FITS\n",
      "Adding SNANA sim data from SNANA.SIM.OUTPUT/IMG_2T_4FILT_MD_SLT3_Z17_Ia-02_HEAD.FITS\n",
      "Adding SNANA sim data from SNANA.SIM.OUTPUT/IMG_2T_4FILT_MD_SLT3_Z17_Ia-03_HEAD.FITS\n",
      "Adding SNANA sim data from SNANA.SIM.OUTPUT/IMG_2T_4FILT_MD_SLT3_Z17_Ia-04_HEAD.FITS\n",
      "Adding SNANA sim data from SNANA.SIM.OUTPUT/IMG_2T_4FILT_MD_SLT3_Z17_Ia-05_HEAD.FITS\n",
      "Adding SNANA sim data from SNANA.SIM.OUTPUT/IMG_2T_4FILT_MD_SLT3_Z17_Ia-06_HEAD.FITS\n",
      "Adding SNANA sim data from SNANA.SIM.OUTPUT/IMG_2T_4FILT_MD_SLT3_Z17_Ia-07_HEAD.FITS\n",
      "Adding SNANA sim data from SNANA.SIM.OUTPUT/IMG_2T_4FILT_MD_SLT3_Z17_Ia-08_HEAD.FITS\n",
      "Adding SNANA sim data from SNANA.SIM.OUTPUT/IMG_2T_4FILT_MD_SLT3_Z17_Ia-09_HEAD.FITS\n",
      "Adding SNANA sim data from SNANA.SIM.OUTPUT/IMG_2T_4FILT_MD_SLT3_Z17_Ia-10_HEAD.FITS\n"
     ]
    }
   ],
   "source": [
    "reload(snhostspec)\n",
    "sim = snhostspec.SnanaSimData()\n",
    "sim.add_all_snana_simdata()"
   ]
  },
  {
   "cell_type": "code",
   "execution_count": 5,
   "metadata": {
    "collapsed": false
   },
   "outputs": [
    {
     "name": "stdout",
     "output_type": "stream",
     "text": [
      "Loading observed galaxy data from the 3DHST catalogs\n",
      "Finding observed galaxies that ~match simulated SN host\n",
      "galaxy properties (redshift and magnitude)...\n",
      "Wrote sim data catalog to wfirst_snhostspec_master.cat\n"
     ]
    }
   ],
   "source": [
    "sim.load_matchdata()\n",
    "sim.pick_random_matches()\n",
    "sim.write_catalog(\"wfirst_snhostspec_master.cat\")"
   ]
  },
  {
   "cell_type": "code",
   "execution_count": null,
   "metadata": {
    "collapsed": true
   },
   "outputs": [],
   "source": []
  },
  {
   "cell_type": "code",
   "execution_count": null,
   "metadata": {
    "collapsed": false
   },
   "outputs": [],
   "source": []
  }
 ],
 "metadata": {
  "kernelspec": {
   "display_name": "Python 2",
   "language": "python",
   "name": "python2"
  },
  "language_info": {
   "codemirror_mode": {
    "name": "ipython",
    "version": 2
   },
   "file_extension": ".py",
   "mimetype": "text/x-python",
   "name": "python",
   "nbconvert_exporter": "python",
   "pygments_lexer": "ipython2",
   "version": "2.7.12"
  }
 },
 "nbformat": 4,
 "nbformat_minor": 1
}

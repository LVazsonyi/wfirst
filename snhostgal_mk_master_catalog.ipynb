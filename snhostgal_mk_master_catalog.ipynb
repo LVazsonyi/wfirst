{
 "cells": [
  {
   "cell_type": "markdown",
   "metadata": {},
   "source": [
    "Part I :\n",
    "\n",
    "(1) Read in host galaxy data from SNANA simulation outputs (from HEAD.FITS files)\n",
    "\n",
    "(2) For each simulated SN host galaxy, find a real galaxy in the 3DHST catalog that has a similar redshift and H band magnitude\n",
    "\n",
    "(3) For each simulated SN host galaxy, use the EAZY code to make a simulated host galaxy spectrum (from the best-fitting photoz template)\n",
    "\n",
    "(4) Store each simulated spectrum as an ascii .dat file with wavelength in nm and AB mag (suitable for input to the Subaru ETC).\n",
    "\n",
    "(5) Store the master catalog as a simple ascii file \"wfirst_snhostspec1.cat\""
   ]
  },
  {
   "cell_type": "code",
   "execution_count": 1,
   "metadata": {
    "collapsed": false
   },
   "outputs": [],
   "source": [
    "%matplotlib inline"
   ]
  },
  {
   "cell_type": "code",
   "execution_count": 2,
   "metadata": {
    "collapsed": false
   },
   "outputs": [],
   "source": [
    "import time\n",
    "import numpy as np\n",
    "from astropy.io import fits\n",
    "from astropy.table import Table\n",
    "from matplotlib import pyplot as plt\n",
    "import snhostspec\n",
    "from glob import glob\n",
    "start = time.time()"
   ]
  },
  {
   "cell_type": "code",
   "execution_count": 3,
   "metadata": {
    "collapsed": false
   },
   "outputs": [
    {
     "name": "stdout",
     "output_type": "stream",
     "text": [
      "Initiliazed an empty WfirstSimData object\n",
      "Adding SNANA sim data from SNANA.SIM.OUTPUT/IMG_2T_4FILT_MD_SLT3_Z08_Ia-01_HEAD.FITS\n",
      "Adding SNANA sim data from SNANA.SIM.OUTPUT/IMG_2T_4FILT_MD_SLT3_Z08_Ia-02_HEAD.FITS\n",
      "Adding SNANA sim data from SNANA.SIM.OUTPUT/IMG_2T_4FILT_MD_SLT3_Z08_Ia-03_HEAD.FITS\n",
      "Adding SNANA sim data from SNANA.SIM.OUTPUT/IMG_2T_4FILT_MD_SLT3_Z08_Ia-04_HEAD.FITS\n",
      "Adding SNANA sim data from SNANA.SIM.OUTPUT/IMG_2T_4FILT_MD_SLT3_Z08_Ia-05_HEAD.FITS\n",
      "Adding SNANA sim data from SNANA.SIM.OUTPUT/IMG_2T_4FILT_MD_SLT3_Z08_Ia-06_HEAD.FITS\n",
      "Adding SNANA sim data from SNANA.SIM.OUTPUT/IMG_2T_4FILT_MD_SLT3_Z08_Ia-07_HEAD.FITS\n",
      "Adding SNANA sim data from SNANA.SIM.OUTPUT/IMG_2T_4FILT_MD_SLT3_Z08_Ia-08_HEAD.FITS\n",
      "Adding SNANA sim data from SNANA.SIM.OUTPUT/IMG_2T_4FILT_MD_SLT3_Z08_Ia-09_HEAD.FITS\n",
      "Adding SNANA sim data from SNANA.SIM.OUTPUT/IMG_2T_4FILT_MD_SLT3_Z08_Ia-10_HEAD.FITS\n",
      "Adding SNANA sim data from SNANA.SIM.OUTPUT/IMG_2T_4FILT_MD_SLT3_Z17_Ia-01_HEAD.FITS\n",
      "Adding SNANA sim data from SNANA.SIM.OUTPUT/IMG_2T_4FILT_MD_SLT3_Z17_Ia-02_HEAD.FITS\n",
      "Adding SNANA sim data from SNANA.SIM.OUTPUT/IMG_2T_4FILT_MD_SLT3_Z17_Ia-03_HEAD.FITS\n",
      "Adding SNANA sim data from SNANA.SIM.OUTPUT/IMG_2T_4FILT_MD_SLT3_Z17_Ia-04_HEAD.FITS\n",
      "Adding SNANA sim data from SNANA.SIM.OUTPUT/IMG_2T_4FILT_MD_SLT3_Z17_Ia-05_HEAD.FITS\n",
      "Adding SNANA sim data from SNANA.SIM.OUTPUT/IMG_2T_4FILT_MD_SLT3_Z17_Ia-06_HEAD.FITS\n",
      "Adding SNANA sim data from SNANA.SIM.OUTPUT/IMG_2T_4FILT_MD_SLT3_Z17_Ia-07_HEAD.FITS\n",
      "Adding SNANA sim data from SNANA.SIM.OUTPUT/IMG_2T_4FILT_MD_SLT3_Z17_Ia-08_HEAD.FITS\n",
      "Adding SNANA sim data from SNANA.SIM.OUTPUT/IMG_2T_4FILT_MD_SLT3_Z17_Ia-09_HEAD.FITS\n",
      "Adding SNANA sim data from SNANA.SIM.OUTPUT/IMG_2T_4FILT_MD_SLT3_Z17_Ia-10_HEAD.FITS\n"
     ]
    }
   ],
   "source": [
    "reload(snhostspec)\n",
    "sim = snhostspec.SnanaSimData()\n",
    "sim.add_all_snana_simdata()"
   ]
  },
  {
   "cell_type": "code",
   "execution_count": 4,
   "metadata": {
    "collapsed": false
   },
   "outputs": [
    {
     "name": "stdout",
     "output_type": "stream",
     "text": [
      "Loading observed galaxy data from the 3DHST catalogs\n",
      "Finding observed galaxies that ~match simulated SN host\n",
      "galaxy properties (redshift and magnitude)...\n"
     ]
    }
   ],
   "source": [
    "sim.load_matchdata()\n",
    "sim.pick_random_matches()"
   ]
  },
  {
   "cell_type": "code",
   "execution_count": 5,
   "metadata": {
    "collapsed": false
   },
   "outputs": [
    {
     "ename": "NameError",
     "evalue": "name 'sim1' is not defined",
     "output_type": "error",
     "traceback": [
      "\u001b[0;31m---------------------------------------------------------------------------\u001b[0m",
      "\u001b[0;31mNameError\u001b[0m                                 Traceback (most recent call last)",
      "\u001b[0;32m<ipython-input-5-95a5bfe64cf9>\u001b[0m in \u001b[0;36m<module>\u001b[0;34m()\u001b[0m\n\u001b[0;32m----> 1\u001b[0;31m \u001b[0msim1\u001b[0m\u001b[0;34m.\u001b[0m\u001b[0mload_sed_data\u001b[0m\u001b[0;34m(\u001b[0m\u001b[0;34m)\u001b[0m\u001b[0;34m\u001b[0m\u001b[0m\n\u001b[0m\u001b[1;32m      2\u001b[0m \u001b[0msim1\u001b[0m\u001b[0;34m.\u001b[0m\u001b[0mverbose\u001b[0m\u001b[0;34m=\u001b[0m\u001b[0;36m2\u001b[0m\u001b[0;34m\u001b[0m\u001b[0m\n\u001b[1;32m      3\u001b[0m \u001b[0msim1\u001b[0m\u001b[0;34m.\u001b[0m\u001b[0msimulate_host_spectra\u001b[0m\u001b[0;34m(\u001b[0m\u001b[0mclobber\u001b[0m\u001b[0;34m=\u001b[0m\u001b[0mTrue\u001b[0m\u001b[0;34m)\u001b[0m\u001b[0;34m\u001b[0m\u001b[0m\n",
      "\u001b[0;31mNameError\u001b[0m: name 'sim1' is not defined"
     ]
    }
   ],
   "source": [
    "sim1.load_sed_data()\n",
    "sim1.verbose=2\n",
    "sim1.simulate_host_spectra(clobber=True)"
   ]
  },
  {
   "cell_type": "code",
   "execution_count": null,
   "metadata": {
    "collapsed": false
   },
   "outputs": [],
   "source": [
    "sim.write_catalog(\"wfirst_snhostspec1.cat\")"
   ]
  },
  {
   "cell_type": "code",
   "execution_count": null,
   "metadata": {
    "collapsed": true
   },
   "outputs": [],
   "source": [
    "end = time.time()\n",
    "print(\"Finished in {:.1f} sec\".format(end-start))"
   ]
  },
  {
   "cell_type": "code",
   "execution_count": null,
   "metadata": {
    "collapsed": true
   },
   "outputs": [],
   "source": []
  }
 ],
 "metadata": {
  "kernelspec": {
   "display_name": "Python 2",
   "language": "python",
   "name": "python2"
  },
  "language_info": {
   "codemirror_mode": {
    "name": "ipython",
    "version": 2
   },
   "file_extension": ".py",
   "mimetype": "text/x-python",
   "name": "python",
   "nbconvert_exporter": "python",
   "pygments_lexer": "ipython2",
   "version": "2.7.12"
  }
 },
 "nbformat": 4,
 "nbformat_minor": 1
}
